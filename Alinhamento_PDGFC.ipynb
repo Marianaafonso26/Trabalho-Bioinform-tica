{
 "cells": [
  {
   "cell_type": "markdown",
   "id": "a267e97b",
   "metadata": {},
   "source": [
    "# Alinhamento Múltiplo - Gene PDGFC"
   ]
  },
  {
   "cell_type": "markdown",
   "id": "bd90b674",
   "metadata": {},
   "source": [
    "1. Carregamento do package e dos módulos necessários"
   ]
  },
  {
   "cell_type": "code",
   "execution_count": 4,
   "id": "cd22d0b6",
   "metadata": {},
   "outputs": [],
   "source": [
    "from Bio.Blast import NCBIXML\n",
    "from Bio.Blast import NCBIWWW\n",
    "from Bio import SeqIO\n",
    "from Bio import Entrez"
   ]
  },
  {
   "cell_type": "markdown",
   "id": "a202b0de",
   "metadata": {},
   "source": [
    "2. O seguinte código serve para guardar o ficheiro corresponde à sequência de aminoácidos que é codificada pelo gene PDGFC em formato fasta, de modo a que as sequências homológas obtidas possam servir de input para a construção de árvores filogenéticas. Como tal utiliza-se o módulo Bio.SeqIO que permite a leitura de sequências de um arquivo, bem como escrever sequências para outro arquivo."
   ]
  },
  {
   "cell_type": "code",
   "execution_count": 5,
   "id": "62823f0b",
   "metadata": {},
   "outputs": [],
   "source": [
    "seqrecord=SeqIO.read(open(\"PDGFC.fasta\"),format=\"fasta\")"
   ]
  },
  {
   "cell_type": "markdown",
   "id": "fae77523",
   "metadata": {},
   "source": [
    "3. De seguida procede-se à pesquisa remota no BLAST, por sequências homólogas similares utilizando-se a base de dados biológicos Uniprot/Swissprot. Para tal, recorreu-se ao módulo Bio.NCBIWWW que permite aceder à versão WWW do blast fornecida pelo NCBI."
   ]
  },
  {
   "cell_type": "code",
   "execution_count": 6,
   "id": "dd4b4940",
   "metadata": {},
   "outputs": [],
   "source": [
    "result_handle=NCBIWWW.qblast(\"blastp\", \"swissprot\", seqrecord.format(\"fasta\"))"
   ]
  },
  {
   "cell_type": "markdown",
   "id": "f1411a05",
   "metadata": {},
   "source": [
    "4. O código abaixo implementado permite guardar os resultados obtidos obtidos anteriormente num ficheiro no formato xml para posterior análise. Como tal, foi necessário recorrer ao módulo Bio.NCBIXML."
   ]
  },
  {
   "cell_type": "code",
   "execution_count": 7,
   "id": "aa91c02e",
   "metadata": {},
   "outputs": [],
   "source": [
    "save_file=open(\"blast-PDGFC.xml\", \"w\")\n",
    "save_file.write(result_handle.read())\n",
    "save_file.close()\n",
    "result_handle.close()"
   ]
  },
  {
   "cell_type": "code",
   "execution_count": 8,
   "id": "77762417",
   "metadata": {},
   "outputs": [],
   "source": [
    "result_handle=open(\"blast-PDGFC.xml\")\n",
    "record=NCBIXML.read(result_handle)"
   ]
  },
  {
   "cell_type": "markdown",
   "id": "0a84bbca",
   "metadata": {},
   "source": [
    "5. De seguida implementou-se um código que permitir retornar os parâmetros globais da pesquisa realizada no BLAST, nomeadamente a base de dados utilizada, a matriz de substituição utilizada no alinhamento, bem como os parâmetros de espaçamentos (gap penalties)."
   ]
  },
  {
   "cell_type": "code",
   "execution_count": 10,
   "id": "2f728aae",
   "metadata": {},
   "outputs": [
    {
     "name": "stdout",
     "output_type": "stream",
     "text": [
      "Parâmetros Globais\n",
      "base de dados: swissprot\n",
      "matriz de substituição: BLOSUM62\n",
      "parâmetros de espaçamento: (11, 1)\n"
     ]
    }
   ],
   "source": [
    "print(\"Parâmetros Globais\")\n",
    "print(\"base de dados:\", record.database)\n",
    "print(\"matriz de substituição:\", record.matrix)\n",
    "print(\"parâmetros de espaçamento:\", record.gap_penalties)"
   ]
  },
  {
   "cell_type": "markdown",
   "id": "14d210cb",
   "metadata": {},
   "source": [
    "6. Pretendeu-se também obter o número de sequências homólogas (também designicado por ocorrências) à sequência nucleotídica em análise PDGFC, encontradas na pesquisa BLAST, isto é, o número de alinhamentos retornados (número de hits)."
   ]
  },
  {
   "cell_type": "code",
   "execution_count": 11,
   "id": "965f4ef6",
   "metadata": {},
   "outputs": [
    {
     "name": "stdout",
     "output_type": "stream",
     "text": [
      "número de alinhamentos: 50\n"
     ]
    }
   ],
   "source": [
    "nhits=len(record.alignments)\n",
    "print(\"número de alinhamentos:\", nhits)"
   ]
  },
  {
   "cell_type": "markdown",
   "id": "d907bca7",
   "metadata": {},
   "source": [
    "7. O seguine código permite identificar a lista de acession numbers, os e-values e os comprimentos dos alinhamentos obtidos na pesquisa. O acession number corresponde ao identificador único que é dado a uma sequência de um polímero biológico (DNA, RNA, proteína), quando as sequências (nucleotídicas ou de aminoácidos) são subtmetidas a um banco de dados. Já o e-value corresponde à probabilidade de alinhamento aleatório, isto é, um cálculo estático baseado na qualidade do alinhamento e o tamanho da base de dados. Ou seja, o e-value é um parâmetro que descreve o número de hits que se pode encontrar ao efetuar a pesquisa num base de dados de determinado tamanho específico. Geralmente, quanto mais próximo de zero foi o e-value, mais significativa é a correspondência dos alinhamentos retornados. No entanto, para alinahmentos mais curtos o e-value pode ser relativamente alto, dado que o cálculo do e-value tem em consideração o tamanho da sequência inicial (query), e como tal sequências mais curtas têm maior probabilidade de ocorrer num banco de dados. Obteve-se também o comprimento  dos alinhamentos retornados e a identificação das sequências homológas."
   ]
  },
  {
   "cell_type": "code",
   "execution_count": 12,
   "id": "7612d4eb",
   "metadata": {},
   "outputs": [],
   "source": [
    "Entrez.email=\"pg50589@alunos.uminho.pt\""
   ]
  },
  {
   "cell_type": "code",
   "execution_count": 13,
   "id": "dcb72bbc",
   "metadata": {},
   "outputs": [
    {
     "name": "stdout",
     "output_type": "stream",
     "text": [
      "E-values e comprimento dos alinhamentos obtidos:\n",
      " \n",
      "Q9NRA1 -  e-value:0.0 -  length:345\n",
      "sequência:sp|Q9NRA1.2| RecName: Full=Platelet-derived growth factor C; Short=PDGF-C; AltName: Full=Fallotein; AltName: Full=Spinal cord-derived growth factor; Short=SCDGF; AltName: Full=VEGF-E; Contains: RecName: Full=Platelet-derived growth factor C, latent form; Short=PDGFC latent form; Contains: RecName: Full=Platelet-derived growth factor C, receptor-binding form; Short=PDGFC receptor-binding form; Flags: Precursor [Homo sapiens]\n",
      "Q8CI19 -  e-value:0.0 -  length:336\n",
      "sequência:sp|Q8CI19.2| RecName: Full=Platelet-derived growth factor C; Short=PDGF-C; AltName: Full=Fallotein; AltName: Full=Spinal cord-derived growth factor; Short=SCDGF; AltName: Full=VEGF-E; Contains: RecName: Full=Platelet-derived growth factor C, latent form; Short=PDGFC latent form; Contains: RecName: Full=Platelet-derived growth factor C, receptor-binding form; Short=PDGFC receptor-binding form; Flags: Precursor [Mus musculus]\n",
      "Q9EQX6 -  e-value:0.0 -  length:336\n",
      "sequência:sp|Q9EQX6.1| RecName: Full=Platelet-derived growth factor C; Short=PDGF-C; AltName: Full=Fallotein; AltName: Full=Spinal cord-derived growth factor; Short=rScdfg; AltName: Full=VEGF-E; Contains: RecName: Full=Platelet-derived growth factor C, latent form; Short=PDGFC latent form; Contains: RecName: Full=Platelet-derived growth factor C, receptor-binding form; Short=PDGFC receptor-binding form; Flags: Precursor [Rattus norvegicus]\n",
      "A8WCC4 -  e-value:0.0 -  length:332\n",
      "sequência:sp|A8WCC4.1| RecName: Full=Platelet-derived growth factor C; Short=PDGF-C; Contains: RecName: Full=Platelet-derived growth factor C, latent form; Short=PDGFC latent form; Contains: RecName: Full=Platelet-derived growth factor C, receptor-binding form; Short=PDGFC receptor-binding form; Flags: Precursor [Gekko japonicus]\n",
      "Q9I946 -  e-value:0.0 -  length:336\n",
      "sequência:sp|Q9I946.1| RecName: Full=Platelet-derived growth factor C; Short=PDGF-C; AltName: Full=Spinal cord-derived growth factor; Contains: RecName: Full=Platelet-derived growth factor C, latent form; Short=PDGFC latent form; Contains: RecName: Full=Platelet-derived growth factor C, receptor-binding form; Short=PDGFC receptor-binding form; Flags: Precursor [Gallus gallus]\n",
      "Q9GZP0 -  e-value:8.61203e-93 -  length:365\n",
      "sequência:sp|Q9GZP0.1| RecName: Full=Platelet-derived growth factor D; Short=PDGF-D; AltName: Full=Iris-expressed growth factor; AltName: Full=Spinal cord-derived growth factor B; Short=SCDGF-B; Contains: RecName: Full=Platelet-derived growth factor D, latent form; Short=PDGFD latent form; Contains: RecName: Full=Platelet-derived growth factor D, receptor-binding form; Short=PDGFD receptor-binding form; Flags: Precursor [Homo sapiens]\n",
      "Q5RA73 -  e-value:1.85998e-92 -  length:328\n",
      "sequência:sp|Q5RA73.1| RecName: Full=Platelet-derived growth factor D; Short=PDGF-D; Contains: RecName: Full=Platelet-derived growth factor D, latent form; Short=PDGFD latent form; Contains: RecName: Full=Platelet-derived growth factor D, receptor-binding form; Short=PDGFD receptor-binding form; Flags: Precursor [Pongo abelii]\n",
      "Q9EQT1 -  e-value:1.1011e-91 -  length:313\n",
      "sequência:sp|Q9EQT1.1| RecName: Full=Platelet-derived growth factor D; Short=PDGF-D; AltName: Full=Iris-expressed growth factor; AltName: Full=Spinal cord-derived growth factor B; Short=SCDGF-B; Contains: RecName: Full=Platelet-derived growth factor D, latent form; Short=PDGFD latent form; Contains: RecName: Full=Platelet-derived growth factor D, receptor-binding form; Short=PDGFD receptor-binding form; Flags: Precursor [Rattus norvegicus]\n",
      "Q925I7 -  e-value:4.15769e-85 -  length:327\n",
      "sequência:sp|Q925I7.1| RecName: Full=Platelet-derived growth factor D; Short=PDGF-D; AltName: Full=Spinal cord-derived growth factor B; Short=SCDGF-B; Contains: RecName: Full=Platelet-derived growth factor D, latent form; Short=PDGFD latent form; Contains: RecName: Full=Platelet-derived growth factor D, receptor-binding form; Short=PDGFD receptor-binding form; Flags: Precursor [Mus musculus]\n",
      "Q6V9H4 -  e-value:2.09754e-83 -  length:303\n",
      "sequência:sp|Q6V9H4.1| RecName: Full=Platelet-derived growth factor D; Short=PDGF-D; AltName: Full=Iris-expressed growth factor; Contains: RecName: Full=Platelet-derived growth factor D, latent form; Short=PDGFD latent form; Contains: RecName: Full=Platelet-derived growth factor D, receptor-binding form; Short=PDGFD receptor-binding form; Flags: Precursor [Oryctolagus cuniculus]\n",
      "Q8QFX6 -  e-value:6.5879e-12 -  length:115\n",
      "sequência:sp|Q8QFX6.1| RecName: Full=Neuropilin-1a; Short=znrp1; Flags: Precursor [Danio rerio]\n",
      "P28824 -  e-value:1.17582e-11 -  length:115\n",
      "sequência:sp|P28824.1| RecName: Full=Neuropilin-1; AltName: Full=A5 antigen; AltName: Full=A5 protein; Flags: Precursor [Xenopus laevis]\n",
      "P98070 -  e-value:1.60991e-11 -  length:108\n",
      "sequência:sp|P98070.1| RecName: Full=Bone morphogenetic protein 1; Short=BMP-1; Flags: Precursor [Xenopus laevis]\n",
      "Q9Y6L7 -  e-value:1.53963e-10 -  length:108\n",
      "sequência:sp|Q9Y6L7.1| RecName: Full=Tolloid-like protein 2; Flags: Precursor [Homo sapiens]\n",
      "Q9WVM6 -  e-value:2.20269e-10 -  length:109\n",
      "sequência:sp|Q9WVM6.1| RecName: Full=Tolloid-like protein 2; Flags: Precursor [Mus musculus]\n",
      "P98063 -  e-value:3.07982e-10 -  length:109\n",
      "sequência:sp|P98063.2| RecName: Full=Bone morphogenetic protein 1; Short=BMP-1; AltName: Full=Mammalian tolloid protein; Short=mTld; AltName: Full=Procollagen C-proteinase; Short=PCP; Flags: Precursor [Mus musculus]\n",
      "P13497 -  e-value:3.10332e-10 -  length:109\n",
      "sequência:sp|P13497.2| RecName: Full=Bone morphogenetic protein 1; Short=BMP-1; AltName: Full=Mammalian tolloid protein; Short=mTld; AltName: Full=Procollagen C-proteinase; Short=PCP; Flags: Precursor [Homo sapiens]\n",
      "O35375 -  e-value:1.17033e-09 -  length:133\n",
      "sequência:sp|O35375.2| RecName: Full=Neuropilin-2; AltName: Full=Vascular endothelial cell growth factor 165 receptor 2; Flags: Precursor [Mus musculus]\n",
      "O57460 -  e-value:1.71568e-09 -  length:108\n",
      "sequência:sp|O57460.1| RecName: Full=Dorsal-ventral patterning tolloid-like protein 1; AltName: Full=Mini fin protein; Flags: Precursor [Danio rerio]\n",
      "Q8JI28 -  e-value:1.78737e-09 -  length:108\n",
      "sequência:sp|Q8JI28.1| RecName: Full=Tolloid-like protein 1; AltName: Full=Metalloprotease xolloid-like; AltName: Full=Xenopus tolloid-like protein 1; AltName: Full=Xlr; Flags: Precursor [Xenopus laevis]\n",
      "O60462 -  e-value:1.84655e-09 -  length:133\n",
      "sequência:sp|O60462.3| RecName: Full=Neuropilin-2; AltName: Full=Vascular endothelial cell growth factor 165 receptor 2; Flags: Precursor [Homo sapiens]\n",
      "O35276 -  e-value:2.08884e-09 -  length:133\n",
      "sequência:sp|O35276.1| RecName: Full=Neuropilin-2; AltName: Full=Vascular endothelial cell growth factor 165 receptor 2; Flags: Precursor [Rattus norvegicus]\n",
      "P97333 -  e-value:2.72923e-09 -  length:115\n",
      "sequência:sp|P97333.2| RecName: Full=Neuropilin-1; AltName: Full=A5 protein; AltName: CD_antigen=CD304; Flags: Precursor [Mus musculus]\n",
      "Q9QWJ9 -  e-value:2.77757e-09 -  length:115\n",
      "sequência:sp|Q9QWJ9.1| RecName: Full=Neuropilin-1; AltName: Full=Vascular endothelial cell growth factor 165 receptor; AltName: CD_antigen=CD304; Flags: Precursor [Rattus norvegicus]\n",
      "O70244 -  e-value:3.57973e-09 -  length:133\n",
      "sequência:sp|O70244.2| RecName: Full=Cubilin; AltName: Full=460 kDa receptor; AltName: Full=Glycoprotein 280; Short=gp280; AltName: Full=Intrinsic factor-cobalamin receptor; AltName: Full=Intrinsic factor-vitamin B12 receptor; Flags: Precursor [Rattus norvegicus]\n",
      "O60494 -  e-value:3.61173e-09 -  length:158\n",
      "sequência:sp|O60494.5| RecName: Full=Cubilin; AltName: Full=460 kDa receptor; AltName: Full=Intestinal intrinsic factor receptor; AltName: Full=Intrinsic factor-cobalamin receptor; AltName: Full=Intrinsic factor-vitamin B12 receptor; Flags: Precursor [Homo sapiens]\n",
      "F1RWC3 -  e-value:5.43805e-09 -  length:131\n",
      "sequência:sp|F1RWC3.3| RecName: Full=Cubilin; AltName: Full=Intrinsic factor-cobalamin receptor; Flags: Precursor [Sus scrofa]\n",
      "Q8R4W6 -  e-value:6.94074e-09 -  length:117\n",
      "sequência:sp|Q8R4W6.2| RecName: Full=Procollagen C-endopeptidase enhancer 2; AltName: Full=Procollagen COOH-terminal proteinase enhancer 2; Short=PCPE-2; Short=Procollagen C-proteinase enhancer 2; Flags: Precursor [Mus musculus]\n",
      "P25723 -  e-value:8.18676e-09 -  length:100\n",
      "sequência:sp|P25723.2| RecName: Full=Dorsal-ventral patterning protein tolloid; Flags: Precursor [Drosophila melanogaster]\n",
      "O14786 -  e-value:8.40033e-09 -  length:115\n",
      "sequência:sp|O14786.3| RecName: Full=Neuropilin-1; AltName: Full=Vascular endothelial cell growth factor 165 receptor; AltName: CD_antigen=CD304; Flags: Precursor [Homo sapiens]\n",
      "Q9DER7 -  e-value:1.00909e-08 -  length:108\n",
      "sequência:sp|Q9DER7.1| RecName: Full=Tolloid-like protein 1; AltName: Full=Chicken tolloid-like protein 1; AltName: Full=Metalloprotease colloid; Flags: Precursor [Gallus gallus]\n",
      "Q9UKZ9 -  e-value:1.39177e-08 -  length:118\n",
      "sequência:sp|Q9UKZ9.1| RecName: Full=Procollagen C-endopeptidase enhancer 2; AltName: Full=Procollagen COOH-terminal proteinase enhancer 2; Short=PCPE-2; Short=Procollagen C-proteinase enhancer 2; Flags: Precursor [Homo sapiens]\n",
      "O57382 -  e-value:1.66561e-08 -  length:104\n",
      "sequência:sp|O57382.1| RecName: Full=Tolloid-like protein 2; AltName: Full=Metalloprotease xolloid; AltName: Full=Xenopus tolloid; Flags: Precursor [Xenopus laevis]\n",
      "P79795 -  e-value:1.88421e-08 -  length:115\n",
      "sequência:sp|P79795.1| RecName: Full=Neuropilin-1; AltName: Full=A5 protein; Flags: Precursor [Gallus gallus]\n",
      "P98068 -  e-value:2.55298e-08 -  length:142\n",
      "sequência:sp|P98068.1| RecName: Full=Protein SpAN; Flags: Precursor [Strongylocentrotus purpuratus]\n",
      "O43897 -  e-value:8.75892e-08 -  length:109\n",
      "sequência:sp|O43897.1| RecName: Full=Tolloid-like protein 1; Flags: Precursor [Homo sapiens]\n",
      "Q62381 -  e-value:1.10304e-07 -  length:108\n",
      "sequência:sp|Q62381.1| RecName: Full=Tolloid-like protein 1; Short=mTll; Flags: Precursor [Mus musculus]\n",
      "Q5VXM1 -  e-value:1.27874e-07 -  length:114\n",
      "sequência:sp|Q5VXM1.1| RecName: Full=CUB domain-containing protein 2; Flags: Precursor [Homo sapiens]\n",
      "Q15113 -  e-value:1.39842e-07 -  length:114\n",
      "sequência:sp|Q15113.2| RecName: Full=Procollagen C-endopeptidase enhancer 1; AltName: Full=Procollagen COOH-terminal proteinase enhancer 1; Short=PCPE-1; Short=Procollagen C-proteinase enhancer 1; AltName: Full=Type 1 procollagen C-proteinase enhancer protein; AltName: Full=Type I procollagen COOH-terminal proteinase enhancer; Flags: Precursor [Homo sapiens]\n",
      "Q9TU53 -  e-value:1.64855e-07 -  length:93\n",
      "sequência:sp|Q9TU53.1| RecName: Full=Cubilin; Flags: Precursor [Canis lupus familiaris]\n",
      "O00187 -  e-value:5.11741e-07 -  length:107\n",
      "sequência:sp|O00187.4| RecName: Full=Mannan-binding lectin serine protease 2; AltName: Full=MBL-associated serine protease 2; AltName: Full=Mannose-binding protein-associated serine protease 2; Short=MASP-2; Contains: RecName: Full=Mannan-binding lectin serine protease 2 A chain; Contains: RecName: Full=Mannan-binding lectin serine protease 2 B chain; Flags: Precursor [Homo sapiens]\n",
      "Q9JLB4 -  e-value:5.87143e-07 -  length:132\n",
      "sequência:sp|Q9JLB4.3| RecName: Full=Cubilin; AltName: Full=Intrinsic factor-cobalamin receptor; Flags: Precursor [Mus musculus]\n",
      "Q8BQH6 -  e-value:1.76759e-06 -  length:114\n",
      "sequência:sp|Q8BQH6.1| RecName: Full=CUB domain-containing protein 2; Flags: Precursor [Mus musculus]\n",
      "Q9W332 -  e-value:2.12529e-06 -  length:120\n",
      "sequência:sp|Q9W332.3| RecName: Full=Cubilin homolog; Flags: Precursor [Drosophila melanogaster]\n",
      "C6K2K4 -  e-value:3.76372e-06 -  length:122\n",
      "sequência:sp|C6K2K4.1| RecName: Full=Neuropilin and tolloid-like protein 2; AltName: Full=Brain-specific transmembrane protein containing 2 CUB and 1 LDL-receptor class A domains protein 2; Flags: Precursor [Rattus norvegicus]\n",
      "Q8BNJ6 -  e-value:4.99897e-06 -  length:122\n",
      "sequência:sp|Q8BNJ6.1| RecName: Full=Neuropilin and tolloid-like protein 2; AltName: Full=Brain-specific transmembrane protein containing 2 CUB and 1 LDL-receptor class A domains protein 2; Flags: Precursor [Mus musculus]\n",
      "P98069 -  e-value:5.02617e-06 -  length:95\n",
      "sequência:sp|P98069.1| RecName: Full=Bone morphogenetic protein 1 homolog; AltName: Full=SUBMP; Flags: Precursor [Strongylocentrotus purpuratus]\n",
      "P42674 -  e-value:6.26876e-06 -  length:109\n",
      "sequência:sp|P42674.1| RecName: Full=Blastula protease 10; Flags: Precursor [Paracentrotus lividus]\n",
      "Q8CHN8 -  e-value:6.89884e-06 -  length:118\n",
      "sequência:sp|Q8CHN8.2| RecName: Full=Mannan-binding lectin serine protease 1; AltName: Full=Complement factor MASP-3; AltName: Full=Complement-activating component of Ra-reactive factor; AltName: Full=Mannose-binding lectin-associated serine protease 1; Short=MASP-1; AltName: Full=Mannose-binding protein-associated serine protease; AltName: Full=Ra-reactive factor serine protease p100; Short=RaRF; AltName: Full=Serine protease 5; Contains: RecName: Full=Mannan-binding lectin serine protease 1 heavy chain; Contains: RecName: Full=Mannan-binding lectin serine protease 1 light chain; Flags: Precursor [Rattus norvegicus]\n",
      "O43915 -  e-value:9.30755e-06 -  length:110\n",
      "sequência:sp|O43915.1| RecName: Full=Vascular endothelial growth factor D; Short=VEGF-D; AltName: Full=c-Fos-induced growth factor; Short=FIGF; Flags: Precursor [Homo sapiens]\n"
     ]
    }
   ],
   "source": [
    "resultado=[]\n",
    "for alignment in record.alignments:\n",
    "    evalue=alignment.hsps[0].expect\n",
    "    accession=alignment.accession\n",
    "    length=alignment.hsps[0].align_length\n",
    "    sequence=alignment.title\n",
    "    resultado.append(str(accession) + \" - \" + \" e-value:\"+ str(evalue) + \" - \" + \" length:\" + str(length) + \"\\nsequência:\" + str(sequence))\n",
    "\n",
    "print(\"E-values e comprimento dos alinhamentos obtidos:\")\n",
    "print(\" \")\n",
    "for s in resultado:\n",
    "    print(s)"
   ]
  }
 ],
 "metadata": {
  "kernelspec": {
   "display_name": "Python 3 (ipykernel)",
   "language": "python",
   "name": "python3"
  },
  "language_info": {
   "codemirror_mode": {
    "name": "ipython",
    "version": 3
   },
   "file_extension": ".py",
   "mimetype": "text/x-python",
   "name": "python",
   "nbconvert_exporter": "python",
   "pygments_lexer": "ipython3",
   "version": "3.9.12"
  }
 },
 "nbformat": 4,
 "nbformat_minor": 5
}
