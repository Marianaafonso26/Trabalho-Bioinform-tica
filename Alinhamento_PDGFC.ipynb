{
 "cells": [
  {
   "cell_type": "markdown",
   "id": "a267e97b",
   "metadata": {},
   "source": [
    "# Alinhamento Múltiplo - Gene PDGFC"
   ]
  },
  {
   "cell_type": "markdown",
   "id": "bd90b674",
   "metadata": {},
   "source": [
    "1. Carregamento do package e dos módulos necessários"
   ]
  },
  {
   "cell_type": "code",
   "execution_count": 1,
   "id": "cd22d0b6",
   "metadata": {},
   "outputs": [],
   "source": [
    "from Bio.Blast import NCBIXML\n",
    "from Bio.Blast import NCBIWWW\n",
    "from Bio import SeqIO\n",
    "from Bio import Entrez"
   ]
  },
  {
   "cell_type": "markdown",
   "id": "a202b0de",
   "metadata": {},
   "source": [
    "2. O seguinte código serve para guardar o ficheiro corresponde à sequência de aminoácidos que é codificada pelo gene PDGFC em formato fasta, de modo a que as sequências homológas obtidas possam servir de input para a construção de árvores filogenéticas. Como tal utiliza-se o módulo Bio.SeqIO que permite a leitura de sequências de um arquivo, bem como escrever sequências para outro arquivo."
   ]
  },
  {
   "cell_type": "code",
   "execution_count": 2,
   "id": "62823f0b",
   "metadata": {},
   "outputs": [],
   "source": [
    "seqrecord=SeqIO.read(open(\"PDGFC.fasta\"),format=\"fasta\")"
   ]
  },
  {
   "cell_type": "markdown",
   "id": "fae77523",
   "metadata": {},
   "source": [
    "3. De seguida procede-se à pesquisa remota no BLAST, por sequências homólogas similares utilizando-se a base de dados biológicos Uniprot/Swissprot. Para tal, recorreu-se ao módulo Bio.NCBIWWW que permite aceder à versão WWW do blast fornecida pelo NCBI."
   ]
  },
  {
   "cell_type": "code",
   "execution_count": 3,
   "id": "dd4b4940",
   "metadata": {},
   "outputs": [],
   "source": [
    "result_handle=NCBIWWW.qblast(\"blastp\", \"nr\", seqrecord.format(\"fasta\"))"
   ]
  },
  {
   "cell_type": "markdown",
   "id": "f1411a05",
   "metadata": {},
   "source": [
    "4. O código abaixo implementado permite guardar os resultados obtidos obtidos anteriormente num ficheiro no formato xml para posterior análise. Como tal, foi necessário recorrer ao módulo Bio.NCBIXML."
   ]
  },
  {
   "cell_type": "code",
   "execution_count": 4,
   "id": "aa91c02e",
   "metadata": {},
   "outputs": [],
   "source": [
    "save_file=open(\"blast-PDGFC.xml\", \"w\")\n",
    "save_file.write(result_handle.read())\n",
    "save_file.close()\n",
    "result_handle.close()"
   ]
  },
  {
   "cell_type": "code",
   "execution_count": 5,
   "id": "77762417",
   "metadata": {},
   "outputs": [],
   "source": [
    "result_handle=open(\"blast-PDGFC.xml\")\n",
    "record=NCBIXML.read(result_handle)"
   ]
  },
  {
   "cell_type": "markdown",
   "id": "0a84bbca",
   "metadata": {},
   "source": [
    "5. De seguida implementou-se um código que permitir retornar os parâmetros globais da pesquisa realizada no BLAST, nomeadamente a base de dados utilizada, a matriz de substituição utilizada no alinhamento, bem como os parâmetros de espaçamentos (gap penalties)."
   ]
  },
  {
   "cell_type": "code",
   "execution_count": 6,
   "id": "2f728aae",
   "metadata": {},
   "outputs": [
    {
     "name": "stdout",
     "output_type": "stream",
     "text": [
      "Parâmetros Globais\n",
      "base de dados: nr\n",
      "matriz de substituição: BLOSUM62\n",
      "parâmetros de espaçamento: (11, 1)\n"
     ]
    }
   ],
   "source": [
    "print(\"Parâmetros Globais\")\n",
    "print(\"base de dados:\", record.database)\n",
    "print(\"matriz de substituição:\", record.matrix)\n",
    "print(\"parâmetros de espaçamento:\", record.gap_penalties)"
   ]
  },
  {
   "cell_type": "markdown",
   "id": "14d210cb",
   "metadata": {},
   "source": [
    "6. Pretendeu-se também obter o número de sequências homólogas (também designicado por ocorrências) à sequência nucleotídica em análise PDGFC, encontradas na pesquisa BLAST, isto é, o número de alinhamentos retornados (número de hits)."
   ]
  },
  {
   "cell_type": "code",
   "execution_count": 7,
   "id": "965f4ef6",
   "metadata": {},
   "outputs": [
    {
     "name": "stdout",
     "output_type": "stream",
     "text": [
      "número de alinhamentos: 50\n"
     ]
    }
   ],
   "source": [
    "nhits=len(record.alignments)\n",
    "print(\"número de alinhamentos:\", nhits)"
   ]
  },
  {
   "cell_type": "markdown",
   "id": "d907bca7",
   "metadata": {},
   "source": [
    "7. O seguine código permite identificar a lista de acession numbers, os e-values e os comprimentos dos alinhamentos obtidos na pesquisa. O acession number corresponde ao identificador único que é dado a uma sequência de um polímero biológico (DNA, RNA, proteína), quando as sequências (nucleotídicas ou de aminoácidos) são subtmetidas a um banco de dados. Já o e-value corresponde à probabilidade de alinhamento aleatório, isto é, um cálculo estático baseado na qualidade do alinhamento e o tamanho da base de dados. Ou seja, o e-value é um parâmetro que descreve o número de hits que se pode encontrar ao efetuar a pesquisa num base de dados de determinado tamanho específico. Geralmente, quanto mais próximo de zero foi o e-value, mais significativa é a correspondência dos alinhamentos retornados. No entanto, para alinahmentos mais curtos o e-value pode ser relativamente alto, dado que o cálculo do e-value tem em consideração o tamanho da sequência inicial (query), e como tal sequências mais curtas têm maior probabilidade de ocorrer num banco de dados. Obteve-se também o comprimento  dos alinhamentos retornados e a identificação das sequências homológas."
   ]
  },
  {
   "cell_type": "code",
   "execution_count": 8,
   "id": "7612d4eb",
   "metadata": {},
   "outputs": [],
   "source": [
    "Entrez.email=\"pg50589@alunos.uminho.pt\""
   ]
  },
  {
   "cell_type": "code",
   "execution_count": 9,
   "id": "dcb72bbc",
   "metadata": {},
   "outputs": [
    {
     "name": "stdout",
     "output_type": "stream",
     "text": [
      "E-values e comprimento dos alinhamentos obtidos:\n",
      " \n",
      "NP_057289 -  e-value:0.0 -  length:345\n",
      "sequência:ref|NP_057289.1| platelet-derived growth factor C precursor [Homo sapiens] >ref|XP_004040602.1| platelet-derived growth factor C [Gorilla gorilla gorilla] >sp|Q9NRA1.2| RecName: Full=Platelet-derived growth factor C; Short=PDGF-C; AltName: Full=Fallotein; AltName: Full=Spinal cord-derived growth factor; Short=SCDGF; AltName: Full=VEGF-E; Contains: RecName: Full=Platelet-derived growth factor C, latent form; Short=PDGFC latent form; Contains: RecName: Full=Platelet-derived growth factor C, receptor-binding form; Short=PDGFC receptor-binding form; Flags: Precursor [Homo sapiens] >dbj|BAJ20843.1| platelet derived growth factor C, partial [synthetic construct] >gb|AAF00049.1| secretory growth factor-like protein fallotein [Homo sapiens] >gb|AAI36663.1| Platelet derived growth factor C [Homo sapiens] >gb|AAK51637.1| platelet-derived growth factor C [Homo sapiens] >gb|AAQ88857.1| fallotein (VEGF-E) [Homo sapiens]\n",
      "XP_001140766 -  e-value:0.0 -  length:345\n",
      "sequência:ref|XP_001140766.1| platelet-derived growth factor C [Pan troglodytes] >ref|XP_003822606.1| platelet-derived growth factor C isoform X1 [Pan paniscus] >gb|PNI63313.1| PDGFC isoform 1 [Pan troglodytes]\n",
      "XP_024102123 -  e-value:0.0 -  length:345\n",
      "sequência:ref|XP_024102123.1| platelet-derived growth factor C [Pongo abelii] >gb|PNJ63234.1| PDGFC isoform 1 [Pongo abelii]\n",
      "BAG36553 -  e-value:0.0 -  length:345\n",
      "sequência:dbj|BAG36553.1| unnamed protein product [Homo sapiens]\n",
      "AAF80597 -  e-value:0.0 -  length:345\n",
      "sequência:gb|AAF80597.1| platelet-derived growth factor C [Homo sapiens]\n",
      "XP_003257934 -  e-value:0.0 -  length:345\n",
      "sequência:ref|XP_003257934.1| platelet-derived growth factor C isoform X1 [Nomascus leucogenys] >ref|XP_032002471.1| platelet-derived growth factor C isoform X1 [Hylobates moloch] >ref|XP_032002503.1| platelet-derived growth factor C isoform X1 [Hylobates moloch]\n",
      "XP_003899349 -  e-value:0.0 -  length:345\n",
      "sequência:ref|XP_003899349.1| platelet-derived growth factor C isoform X1 [Papio anubis] >ref|XP_005556211.1| platelet-derived growth factor C isoform X1 [Macaca fascicularis] >ref|XP_007998283.1| platelet-derived growth factor C isoform X1 [Chlorocebus sabaeus] >ref|XP_010356342.1| platelet-derived growth factor C isoform X1 [Rhinopithecus roxellana] >ref|XP_011751143.1| platelet-derived growth factor C [Macaca nemestrina] >ref|XP_011815115.1| PREDICTED: platelet-derived growth factor C [Colobus angolensis palliatus] >ref|XP_011825884.1| PREDICTED: platelet-derived growth factor C [Mandrillus leucophaeus] >ref|XP_017726533.1| PREDICTED: platelet-derived growth factor C isoform X1 [Rhinopithecus bieti] >ref|XP_025242379.1| platelet-derived growth factor C [Theropithecus gelada] >ref|XP_026309922.1| platelet-derived growth factor C [Piliocolobus tephrosceles] >ref|XP_031791170.1| platelet-derived growth factor C [Piliocolobus tephrosceles] >ref|XP_050645839.1| platelet-derived growth factor C [Macaca thibetana thibetana] >gb|EHH26268.1| hypothetical protein EGK_16187 [Macaca mulatta]\n",
      "XP_001093265 -  e-value:0.0 -  length:345\n",
      "sequência:ref|XP_001093265.1| platelet-derived growth factor C [Macaca mulatta]\n",
      "XP_011941954 -  e-value:0.0 -  length:345\n",
      "sequência:ref|XP_011941954.1| PREDICTED: platelet-derived growth factor C isoform X2 [Cercocebus atys]\n",
      "XP_003984966 -  e-value:0.0 -  length:345\n",
      "sequência:ref|XP_003984966.1| platelet-derived growth factor C [Felis catus] >ref|XP_007084266.1| platelet-derived growth factor C isoform X1 [Panthera tigris] >ref|XP_019296707.1| PREDICTED: platelet-derived growth factor C [Panthera pardus] >ref|XP_030168713.1| platelet-derived growth factor C [Lynx canadensis] >ref|XP_042791143.1| platelet-derived growth factor C isoform X1 [Panthera leo] >ref|XP_045320657.1| platelet-derived growth factor C [Leopardus geoffroyi] >ref|XP_046948058.1| platelet-derived growth factor C [Lynx rufus] >ref|XP_047712998.1| platelet-derived growth factor C isoform X1 [Prionailurus viverrinus] >ref|XP_049488302.1| platelet-derived growth factor C isoform X2 [Panthera uncia]\n",
      "XP_007942170 -  e-value:0.0 -  length:345\n",
      "sequência:ref|XP_007942170.1| platelet-derived growth factor C [Orycteropus afer afer]\n",
      "XP_014927639 -  e-value:0.0 -  length:345\n",
      "sequência:ref|XP_014927639.1| platelet-derived growth factor C isoform X1 [Acinonyx jubatus] >ref|XP_025777491.1| platelet-derived growth factor C [Puma concolor] >ref|XP_040327559.1| platelet-derived growth factor C [Puma yagouaroundi]\n",
      "XP_012508449 -  e-value:0.0 -  length:345\n",
      "sequência:ref|XP_012508449.1| PREDICTED: platelet-derived growth factor C isoform X1 [Propithecus coquereli]\n",
      "XP_043422717 -  e-value:0.0 -  length:345\n",
      "sequência:ref|XP_043422717.1| platelet-derived growth factor C isoform X1 [Prionailurus bengalensis]\n",
      "XP_004421009 -  e-value:0.0 -  length:345\n",
      "sequência:ref|XP_004421009.1| PREDICTED: platelet-derived growth factor C isoform X1 [Ceratotherium simum simum]\n",
      "XP_012639070 -  e-value:0.0 -  length:345\n",
      "sequência:ref|XP_012639070.1| platelet-derived growth factor C isoform X1 [Microcebus murinus]\n",
      "XP_004382089 -  e-value:0.0 -  length:345\n",
      "sequência:ref|XP_004382089.1| platelet-derived growth factor C isoform X1 [Trichechus manatus latirostris]\n",
      "XP_026355327 -  e-value:0.0 -  length:345\n",
      "sequência:ref|XP_026355327.1| platelet-derived growth factor C isoform X1 [Ursus arctos] >ref|XP_040482328.1| platelet-derived growth factor C isoform X1 [Ursus maritimus] >ref|XP_040482329.1| platelet-derived growth factor C isoform X1 [Ursus maritimus] >ref|XP_040482330.1| platelet-derived growth factor C isoform X1 [Ursus maritimus] >ref|XP_045654714.1| platelet-derived growth factor C isoform X1 [Ursus americanus] >ref|XP_045654715.1| platelet-derived growth factor C isoform X1 [Ursus americanus]\n",
      "XP_045408125 -  e-value:0.0 -  length:345\n",
      "sequência:ref|XP_045408125.1| platelet-derived growth factor C [Lemur catta] >ref|XP_045408126.1| platelet-derived growth factor C [Lemur catta]\n",
      "XP_034517361 -  e-value:0.0 -  length:345\n",
      "sequência:ref|XP_034517361.1| platelet-derived growth factor C isoform X1 [Ailuropoda melanoleuca] >ref|XP_034517362.1| platelet-derived growth factor C isoform X1 [Ailuropoda melanoleuca] >ref|XP_034517363.1| platelet-derived growth factor C isoform X1 [Ailuropoda melanoleuca]\n",
      "XP_001500695 -  e-value:0.0 -  length:345\n",
      "sequência:ref|XP_001500695.1| platelet-derived growth factor C isoform X2 [Equus caballus] >ref|XP_008512664.1| PREDICTED: platelet-derived growth factor C isoform X1 [Equus przewalskii] >ref|XP_014699555.1| platelet-derived growth factor C isoform X2 [Equus asinus] >ref|XP_046512949.1| platelet-derived growth factor C isoform X1 [Equus quagga]\n",
      "XP_004394298 -  e-value:0.0 -  length:345\n",
      "sequência:ref|XP_004394298.1| PREDICTED: platelet-derived growth factor C [Odobenus rosmarus divergens] >ref|XP_027455351.1| platelet-derived growth factor C isoform X2 [Zalophus californianus] >ref|XP_027960168.1| platelet-derived growth factor C isoform X1 [Eumetopias jubatus] >ref|XP_027960169.1| platelet-derived growth factor C isoform X1 [Eumetopias jubatus]\n",
      "XP_011358633 -  e-value:0.0 -  length:345\n",
      "sequência:ref|XP_011358633.1| platelet-derived growth factor C isoform X1 [Pteropus vampyrus] >ref|XP_039732156.1| platelet-derived growth factor C isoform X1 [Pteropus giganteus]\n",
      "XP_008571526 -  e-value:0.0 -  length:347\n",
      "sequência:ref|XP_008571526.1| PREDICTED: platelet-derived growth factor C isoform X1 [Galeopterus variegatus]\n",
      "XP_021554558 -  e-value:0.0 -  length:345\n",
      "sequência:ref|XP_021554558.1| platelet-derived growth factor C [Neomonachus schauinslandi] >ref|XP_045736194.1| platelet-derived growth factor C isoform X1 [Mirounga angustirostris]\n",
      "XP_025730151 -  e-value:0.0 -  length:345\n",
      "sequência:ref|XP_025730151.1| platelet-derived growth factor C isoform X1 [Callorhinus ursinus] >ref|XP_025730152.1| platelet-derived growth factor C isoform X1 [Callorhinus ursinus]\n",
      "XP_019482010 -  e-value:0.0 -  length:345\n",
      "sequência:ref|XP_019482010.1| PREDICTED: platelet-derived growth factor C isoform X2 [Hipposideros armiger]\n",
      "XP_039077059 -  e-value:0.0 -  length:345\n",
      "sequência:ref|XP_039077059.1| platelet-derived growth factor C isoform X1 [Hyaena hyaena]\n",
      "XP_002716988 -  e-value:0.0 -  length:345\n",
      "sequência:ref|XP_002716988.1| platelet-derived growth factor C [Oryctolagus cuniculus]\n",
      "XP_027455352 -  e-value:0.0 -  length:345\n",
      "sequência:ref|XP_027455352.1| platelet-derived growth factor C isoform X3 [Zalophus californianus] >ref|XP_027960170.1| platelet-derived growth factor C isoform X2 [Eumetopias jubatus]\n",
      "XP_007532123 -  e-value:0.0 -  length:345\n",
      "sequência:ref|XP_007532123.1| PREDICTED: platelet-derived growth factor C [Erinaceus europaeus] >ref|XP_016047595.1| PREDICTED: platelet-derived growth factor C [Erinaceus europaeus]\n",
      "XP_027455350 -  e-value:0.0 -  length:358\n",
      "sequência:ref|XP_027455350.1| platelet-derived growth factor C isoform X1 [Zalophus californianus]\n",
      "XP_023492162 -  e-value:0.0 -  length:359\n",
      "sequência:ref|XP_023492162.1| platelet-derived growth factor C isoform X1 [Equus caballus]\n",
      "XP_006867975 -  e-value:0.0 -  length:345\n",
      "sequência:ref|XP_006867975.1| PREDICTED: platelet-derived growth factor C [Chrysochloris asiatica]\n",
      "XP_029795594 -  e-value:0.0 -  length:336\n",
      "sequência:ref|XP_029795594.1| platelet-derived growth factor C isoform X1 [Suricata suricatta]\n",
      "XP_032268954 -  e-value:0.0 -  length:336\n",
      "sequência:ref|XP_032268954.1| platelet-derived growth factor C [Phoca vitulina]\n",
      "XP_004685406 -  e-value:0.0 -  length:336\n",
      "sequência:ref|XP_004685406.1| PREDICTED: platelet-derived growth factor C isoform X1 [Condylura cristata]\n",
      "XP_037352982 -  e-value:0.0 -  length:336\n",
      "sequência:ref|XP_037352982.1| platelet-derived growth factor C [Talpa occidentalis]\n",
      "XP_034878727 -  e-value:0.0 -  length:336\n",
      "sequência:ref|XP_034878727.1| platelet-derived growth factor C isoform X1 [Mirounga leonina]\n",
      "XP_022371197 -  e-value:0.0 -  length:336\n",
      "sequência:ref|XP_022371197.1| platelet-derived growth factor C [Enhydra lutris kenyoni] >ref|XP_045854124.1| platelet-derived growth factor C [Meles meles] >ref|XP_047573773.1| platelet-derived growth factor C isoform X1 [Lutra lutra]\n",
      "XP_003418547 -  e-value:0.0 -  length:336\n",
      "sequência:ref|XP_003418547.1| platelet-derived growth factor C [Loxodonta africana] >ref|XP_049708836.1| platelet-derived growth factor C [Elephas maximus indicus]\n",
      "XP_004475366 -  e-value:0.0 -  length:336\n",
      "sequência:ref|XP_004475366.1| platelet-derived growth factor C isoform X1 [Dasypus novemcinctus]\n",
      "KAI5767547 -  e-value:0.0 -  length:336\n",
      "sequência:gb|KAI5767547.1| PDGFC protein [Gulo gulo luscus] >gb|KAI5767643.1| PDGFC protein [Gulo gulo luscus]\n",
      "XP_006884510 -  e-value:0.0 -  length:336\n",
      "sequência:ref|XP_006884510.1| PREDICTED: platelet-derived growth factor C [Elephantulus edwardii]\n",
      "XP_015994155 -  e-value:0.0 -  length:336\n",
      "sequência:ref|XP_015994155.1| platelet-derived growth factor C isoform X1 [Rousettus aegyptiacus] >ref|XP_015994156.1| platelet-derived growth factor C isoform X1 [Rousettus aegyptiacus] >ref|XP_036089548.1| platelet-derived growth factor C isoform X1 [Rousettus aegyptiacus] >gb|KAF6402009.1| platelet derived growth factor C [Rousettus aegyptiacus]\n",
      "XP_019588821 -  e-value:0.0 -  length:336\n",
      "sequência:ref|XP_019588821.1| PREDICTED: platelet-derived growth factor C isoform X1 [Rhinolophus sinicus] >ref|XP_019588822.1| PREDICTED: platelet-derived growth factor C isoform X1 [Rhinolophus sinicus]\n",
      "XP_032718869 -  e-value:0.0 -  length:336\n",
      "sequência:ref|XP_032718869.1| platelet-derived growth factor C isoform X1 [Lontra canadensis]\n",
      "XP_032188587 -  e-value:0.0 -  length:336\n",
      "sequência:ref|XP_032188587.1| platelet-derived growth factor C [Mustela erminea]\n",
      "XP_036743754 -  e-value:0.0 -  length:336\n",
      "sequência:ref|XP_036743754.1| platelet-derived growth factor C isoform X3 [Manis pentadactyla] >gb|KAI5277844.1| Platelet-Derived Growth Factor C [Manis pentadactyla]\n",
      "XP_006727339 -  e-value:0.0 -  length:336\n",
      "sequência:ref|XP_006727339.1| platelet-derived growth factor C isoform X1 [Leptonychotes weddellii] >ref|XP_030882390.1| platelet-derived growth factor C isoform X1 [Leptonychotes weddellii]\n"
     ]
    }
   ],
   "source": [
    "resultado=[]\n",
    "for alignment in record.alignments:\n",
    "    evalue=alignment.hsps[0].expect\n",
    "    accession=alignment.accession\n",
    "    length=alignment.hsps[0].align_length\n",
    "    sequence=alignment.title\n",
    "    resultado.append(str(accession) + \" - \" + \" e-value:\"+ str(evalue) + \" - \" + \" length:\" + str(length) + \"\\nsequência:\" + str(sequence))\n",
    "\n",
    "print(\"E-values e comprimento dos alinhamentos obtidos:\")\n",
    "print(\" \")\n",
    "for s in resultado:\n",
    "    print(s)"
   ]
  }
 ],
 "metadata": {
  "kernelspec": {
   "display_name": "Python 3 (ipykernel)",
   "language": "python",
   "name": "python3"
  },
  "language_info": {
   "codemirror_mode": {
    "name": "ipython",
    "version": 3
   },
   "file_extension": ".py",
   "mimetype": "text/x-python",
   "name": "python",
   "nbconvert_exporter": "python",
   "pygments_lexer": "ipython3",
   "version": "3.9.12"
  }
 },
 "nbformat": 4,
 "nbformat_minor": 5
}
