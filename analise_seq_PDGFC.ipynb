{
 "cells": [
  {
   "cell_type": "markdown",
   "id": "168cd2ff",
   "metadata": {},
   "source": [
    "Análise da sequência e das features presentes no NCBI - Gene PDGFC"
   ]
  },
  {
   "cell_type": "markdown",
   "id": "478cee5c",
   "metadata": {},
   "source": [
    "1. Carregamento do package e dos módulos necessários"
   ]
  },
  {
   "cell_type": "code",
   "execution_count": 5,
   "id": "79a70804",
   "metadata": {},
   "outputs": [],
   "source": [
    "from Bio import Seq\n",
    "from Bio import SeqFeature\n",
    "from Bio import SeqIO\n",
    "from Bio import Entrez"
   ]
  },
  {
   "cell_type": "markdown",
   "id": "db28ea52",
   "metadata": {},
   "source": [
    "2. O código abaixo implementado tem como principal objetivo a obtenção de um ficheiro em formato GenBank da sequência nucleótidica do gene LYPLAL1 no organismo Homo Sapiens, nomeadamente o ficheiro no formato GenBank da sequência de nucleótidos com registo NM_016205.3 no BLAST. Assim, primeiramente, o código implementado permite aceder a uma lista que contém todos os IDs dos registos das sequências nucleótidicas associadas ao gene em análise, nomeadamente a sequência nucleótica que pretendemos obter o seu formato GenBank. Para tal, recorreu-se a funções do módulo Bio.Entrez, como Entrez.esearch, com o intuito de procurar o gene PDGFC no organismo Homo Sapiens e Entrez.read para se obter os IDs das diferentes sequências nucleóticas, tendo-se obtido numa lista ,designada por IdList, 17 IDs diferentes. Como tal, constata-se que existem 17 sequências nucleóticas distintas relacionadas com o gene PDGFC."
   ]
  },
  {
   "cell_type": "code",
   "execution_count": 6,
   "id": "3ed6f3b4",
   "metadata": {},
   "outputs": [
    {
     "data": {
      "text/plain": [
       "['NM_016205.3', 'NR_036641.2', 'NC_060928.1', 'NC_000004.12', 'XM_047415972.1', 'XM_047415971.1', 'XM_047415970.1', 'XM_017008455.2', 'XM_047415969.1', 'AC092608.2', 'CM000255.1', 'CH471056.2', 'BC136662.1', 'AY403293.1', 'AB590688.1', 'AF260738.1', 'AM922296.1']"
      ]
     },
     "execution_count": 6,
     "metadata": {},
     "output_type": "execute_result"
    }
   ],
   "source": [
    "Entrez.email=\"margaridaferreiraamgf@gmail.com\"\n",
    "Entrez.tool=\"Demoscript\"\n",
    "handle=Entrez.esearch(db=\"nucleotide\", term=\"Homo sapiens[Orgn] AND PDGFC[Gene]\",idtype=\"acc\")\n",
    "record=Entrez.read(handle)\n",
    "record[\"Count\"]\n",
    "record[\"IdList\"]"
   ]
  },
  {
   "cell_type": "markdown",
   "id": "79a28250",
   "metadata": {},
   "source": [
    "3. De seguida, a partir da lista que contém todos os IDs das sequências nucleóticas, selecionou-se o ID da sequência que se pretende, neste caso NM_016205.3. Recorreu-se à função Entrez.efetch do módulo Bio.Entrez, para se obter o registo completo em formato GenBank da sequência. Posteriormente, imprimiu-se o ficheiro em formato GenBank correspondente à sequência nucleótidica do gene PDGFC no organismos Homo Sapiens."
   ]
  },
  {
   "cell_type": "code",
   "execution_count": 7,
   "id": "6df27902",
   "metadata": {},
   "outputs": [
    {
     "name": "stdout",
     "output_type": "stream",
     "text": [
      "LOCUS       NM_016205               4570 bp    mRNA    linear   PRI 25-DEC-2022\n",
      "DEFINITION  Homo sapiens platelet derived growth factor C (PDGFC), transcript\n",
      "            variant 1, mRNA.\n",
      "ACCESSION   NM_016205\n",
      "VERSION     NM_016205.3\n",
      "KEYWORDS    RefSeq; MANE Select.\n",
      "SOURCE      Homo sapiens (human)\n",
      "  ORGANISM  Homo sapiens\n",
      "            Eukaryota; Metazoa; Chordata; Craniata; Vertebrata; Euteleostomi;\n",
      "            Mammalia; Eutheria; Euarchontoglires; Primates; Haplorrhini;\n",
      "            Catarrhini; Hominidae; Homo.\n",
      "REFERENCE   1  (bases 1 to 4570)\n",
      "  AUTHORS   Salokas K, Liu X, Ohman T, Chowdhury I, Gawriyski L, Keskitalo S\n",
      "            and Varjosalo M.\n",
      "  TITLE     Physical and functional interactome atlas of human receptor\n",
      "            tyrosine kinases\n",
      "  JOURNAL   EMBO Rep 23 (6), e54041 (2022)\n",
      "   PUBMED   35384245\n",
      "REFERENCE   2  (bases 1 to 4570)\n",
      "  AUTHORS   Tan Z, Shi S, Xu J, Liu X, Lei Y, Zhang B, Hua J, Meng Q, Wang W,\n",
      "            Yu X and Liang C.\n",
      "  TITLE     RNA N6-methyladenosine demethylase FTO promotes pancreatic cancer\n",
      "            progression by inducing the autocrine activity of PDGFC in an\n",
      "            m6A-YTHDF2-dependent manner\n",
      "  JOURNAL   Oncogene 41 (20), 2860-2872 (2022)\n",
      "   PUBMED   35422475\n",
      "  REMARK    GeneRIF: RNA N6-methyladenosine demethylase FTO promotes pancreatic\n",
      "            cancer progression by inducing the autocrine activity of PDGFC in\n",
      "            an m(6)A-YTHDF2-dependent manner.\n",
      "REFERENCE   3  (bases 1 to 4570)\n",
      "  AUTHORS   Tian Y, Zhan Y, Jiang Q, Lu W and Li X.\n",
      "  TITLE     Expression and function of PDGF-C in development and stem cells\n",
      "  JOURNAL   Open Biol 11 (12), 210268 (2021)\n",
      "   PUBMED   34847773\n",
      "  REMARK    GeneRIF: Expression and function of PDGF-C in development and stem\n",
      "            cells.\n",
      "            Review article\n",
      "REFERENCE   4  (bases 1 to 4570)\n",
      "  AUTHORS   Yoon H, Tang CM, Banerjee S, Yebra M, Noh S, Burgoyne AM, Torre J,\n",
      "            Siena M, Liu M, Klug LR, Choi YY, Hosseini M, Delgado AL, Wang Z,\n",
      "            French RP, Lowy A, DeMatteo RP, Heinrich MC, Molinolo AA, Gutkind\n",
      "            JS, Harismendy O and Sicklick JK.\n",
      "  TITLE     Cancer-associated fibroblast secretion of PDGFC promotes\n",
      "            gastrointestinal stromal tumor growth and metastasis\n",
      "  JOURNAL   Oncogene 40 (11), 1957-1973 (2021)\n",
      "   PUBMED   33603171\n",
      "  REMARK    GeneRIF: Cancer-associated fibroblast secretion of PDGFC promotes\n",
      "            gastrointestinal stromal tumor growth and metastasis.\n",
      "REFERENCE   5  (bases 1 to 4570)\n",
      "  AUTHORS   Martin-Gonzalez C, Gonzalez-Navarrete L, Ribot-Hernandez I,\n",
      "            Vera-Delgado V, Alvisa-Negrin J, Godoy-Reyes A, Espelosin-Ortega E,\n",
      "            Abreu-Gonzalez P and Gonzalez-Reimers E.\n",
      "  TITLE     Platelet-Derived Growth Factor C in Alcoholics\n",
      "  JOURNAL   Alcohol Alcohol 55 (2), 157-163 (2020)\n",
      "   PUBMED   31897468\n",
      "  REMARK    GeneRIF: Platelet-Derived Growth Factor C in Alcoholics.\n",
      "REFERENCE   6  (bases 1 to 4570)\n",
      "  AUTHORS   Gilbertson DG, Duff ME, West JW, Kelly JD, Sheppard PO, Hofstrand\n",
      "            PD, Gao Z, Shoemaker K, Bukowski TR, Moore M, Feldhaus AL, Humes\n",
      "            JM, Palmer TE and Hart CE.\n",
      "  TITLE     Platelet-derived growth factor C (PDGF-C), a novel growth factor\n",
      "            that binds to PDGF alpha and beta receptor\n",
      "  JOURNAL   J Biol Chem 276 (29), 27406-27414 (2001)\n",
      "   PUBMED   11297552\n",
      "REFERENCE   7  (bases 1 to 4570)\n",
      "  AUTHORS   Zwerner JP and May WA.\n",
      "  TITLE     PDGF-C is an EWS/FLI induced transforming growth factor in Ewing\n",
      "            family tumors\n",
      "  JOURNAL   Oncogene 20 (5), 626-633 (2001)\n",
      "   PUBMED   11313995\n",
      "  REMARK    GeneRIF: PDGFC was identified as target of EWS/ETS\n",
      "            transcriptionalderegulation specific to EWS/FLI-1 chimeras in the\n",
      "            Ewing Family Tumors suggesting that it may be a significant\n",
      "            mediator of EWS/FLI driven oncogenesis.\n",
      "REFERENCE   8  (bases 1 to 4570)\n",
      "  AUTHORS   Tsai YJ, Lee RK, Lin SP and Chen YH.\n",
      "  TITLE     Identification of a novel platelet-derived growth factor-like gene,\n",
      "            fallotein, in the human reproductive tract\n",
      "  JOURNAL   Biochim Biophys Acta 1492 (1), 196-202 (2000)\n",
      "   PUBMED   11004490\n",
      "REFERENCE   9  (bases 1 to 4570)\n",
      "  AUTHORS   Hamada T, Ui-Tei K and Miyata Y.\n",
      "  TITLE     A novel gene derived from developing spinal cords, SCDGF, is a\n",
      "            unique member of the PDGF/VEGF family\n",
      "  JOURNAL   FEBS Lett 475 (2), 97-102 (2000)\n",
      "   PUBMED   10858496\n",
      "REFERENCE   10 (bases 1 to 4570)\n",
      "  AUTHORS   Li X, Ponten A, Aase K, Karlsson L, Abramsson A, Uutela M,\n",
      "            Backstrom G, Hellstrom M, Bostrom H, Li H, Soriano P, Betsholtz C,\n",
      "            Heldin CH, Alitalo K, Ostman A and Eriksson U.\n",
      "  TITLE     PDGF-C is a new protease-activated ligand for the PDGF\n",
      "            alpha-receptor\n",
      "  JOURNAL   Nat Cell Biol 2 (5), 302-309 (2000)\n",
      "   PUBMED   10806482\n",
      "COMMENT     REVIEWED REFSEQ: This record has been curated by NCBI staff. The\n",
      "            reference sequence was derived from AC093325.3, AF091434.1,\n",
      "            AI446155.1 and AC092608.2.\n",
      "            \n",
      "            On Nov 23, 2018 this sequence version replaced NM_016205.2.\n",
      "            \n",
      "            Summary: The protein encoded by this gene is a member of the\n",
      "            platelet-derived growth factor family. The four members of this\n",
      "            family are mitogenic factors for cells of mesenchymal origin and\n",
      "            are characterized by a core motif of eight cysteines. This gene\n",
      "            product appears to form only homodimers. It differs from the\n",
      "            platelet-derived growth factor alpha and beta polypeptides in\n",
      "            having an unusual N-terminal domain, the CUB domain. Alternatively\n",
      "            spliced transcript variants have been found for this gene.\n",
      "            [provided by RefSeq, Sep 2010].\n",
      "            \n",
      "            Transcript Variant: This variant (1) represents the shorter\n",
      "            transcript and encodes the functional protein.\n",
      "            \n",
      "            Publication Note:  This RefSeq record includes a subset of the\n",
      "            publications that are available for this gene. Please see the Gene\n",
      "            record to access additional publications.\n",
      "            \n",
      "            ##Evidence-Data-START##\n",
      "            Transcript exon combination :: AF091434.1, AY358493.2 [ECO:0000332]\n",
      "            RNAseq introns              :: mixed sample support SAMEA1965299,\n",
      "                                           SAMEA1966682 [ECO:0006172]\n",
      "            ##Evidence-Data-END##\n",
      "            \n",
      "            ##RefSeq-Attributes-START##\n",
      "            MANE Ensembl match     :: ENST00000502773.6/ ENSP00000422464.1\n",
      "            RefSeq Select criteria :: based on conservation, expression,\n",
      "                                      longest protein\n",
      "            ##RefSeq-Attributes-END##\n",
      "            COMPLETENESS: full length.\n",
      "PRIMARY     REFSEQ_SPAN         PRIMARY_IDENTIFIER PRIMARY_SPAN        COMP\n",
      "            1-405               AC093325.3         80703-81107         c\n",
      "            406-3412            AF091434.1         1-3007\n",
      "            3413-3413           AI446155.1         31-31               c\n",
      "            3414-4570           AC092608.2         64714-65870         c\n",
      "FEATURES             Location/Qualifiers\n",
      "     source          1..4570\n",
      "                     /organism=\"Homo sapiens\"\n",
      "                     /mol_type=\"mRNA\"\n",
      "                     /db_xref=\"taxon:9606\"\n",
      "                     /chromosome=\"4\"\n",
      "                     /map=\"4q32.1\"\n",
      "     gene            1..4570\n",
      "                     /gene=\"PDGFC\"\n",
      "                     /gene_synonym=\"FALLOTEIN; SCDGF\"\n",
      "                     /note=\"platelet derived growth factor C\"\n",
      "                     /db_xref=\"GeneID:56034\"\n",
      "                     /db_xref=\"HGNC:HGNC:8801\"\n",
      "                     /db_xref=\"MIM:608452\"\n",
      "     exon            1..1014\n",
      "                     /gene=\"PDGFC\"\n",
      "                     /gene_synonym=\"FALLOTEIN; SCDGF\"\n",
      "                     /inference=\"alignment:Splign:2.1.0\"\n",
      "     misc_feature    873..875\n",
      "                     /gene=\"PDGFC\"\n",
      "                     /gene_synonym=\"FALLOTEIN; SCDGF\"\n",
      "                     /note=\"upstream in-frame stop codon\"\n",
      "     CDS             897..1934\n",
      "                     /gene=\"PDGFC\"\n",
      "                     /gene_synonym=\"FALLOTEIN; SCDGF\"\n",
      "                     /note=\"secretory growth factor-like protein; spinal\n",
      "                     cord-derived growth factor; PDGF-C; VEGF-E\"\n",
      "                     /codon_start=1\n",
      "                     /product=\"platelet-derived growth factor C precursor\"\n",
      "                     /protein_id=\"NP_057289.1\"\n",
      "                     /db_xref=\"CCDS:CCDS3795.1\"\n",
      "                     /db_xref=\"GeneID:56034\"\n",
      "                     /db_xref=\"HGNC:HGNC:8801\"\n",
      "                     /db_xref=\"MIM:608452\"\n",
      "                     /translation=\"MSLFGLLLLTSALAGQRQGTQAESNLSSKFQFSSNKEQNGVQDP\n",
      "                     QHERIITVSTNGSIHSPRFPHTYPRNTVLVWRLVAVEENVWIQLTFDERFGLEDPEDD\n",
      "                     ICKYDFVEVEEPSDGTILGRWCGSGTVPGKQISKGNQIRIRFVSDEYFPSEPGFCIHY\n",
      "                     NIVMPQFTEAVSPSVLPPSALPLDLLNNAITAFSTLEDLIRYLEPERWQLDLEDLYRP\n",
      "                     TWQLLGKAFVFGRKSRVVDLNLLTEEVRLYSCTPRNFSVSIREELKRTDTIFWPGCLL\n",
      "                     VKRCGGNCACCLHNCNECQCVPSKVTKKYHEVLQLRPKTGVRGLHKSLTDVALEHHEE\n",
      "                     CDCVCRGSTGG\"\n",
      "     sig_peptide     897..962\n",
      "                     /gene=\"PDGFC\"\n",
      "                     /gene_synonym=\"FALLOTEIN; SCDGF\"\n",
      "                     /inference=\"COORDINATES: ab initio prediction:SignalP:4.0\"\n",
      "     misc_feature    969..971\n",
      "                     /gene=\"PDGFC\"\n",
      "                     /gene_synonym=\"FALLOTEIN; SCDGF\"\n",
      "                     /note=\"N-linked (GlcNAc...) asparagine.\n",
      "                     /evidence=ECO:0000255; propagated from\n",
      "                     UniProtKB/Swiss-Prot (Q9NRA1.2); glycosylation site\"\n",
      "     misc_feature    1059..1061\n",
      "                     /gene=\"PDGFC\"\n",
      "                     /gene_synonym=\"FALLOTEIN; SCDGF\"\n",
      "                     /note=\"N-linked (GlcNAc...) asparagine.\n",
      "                     /evidence=ECO:0000250; propagated from\n",
      "                     UniProtKB/Swiss-Prot (Q9NRA1.2); glycosylation site\"\n",
      "     misc_feature    1569..1574\n",
      "                     /gene=\"PDGFC\"\n",
      "                     /gene_synonym=\"FALLOTEIN; SCDGF\"\n",
      "                     /note=\"Cleavage; propagated from UniProtKB/Swiss-Prot\n",
      "                     (Q9NRA1.2); cleavage site\"\n",
      "     misc_feature    1587..1592\n",
      "                     /gene=\"PDGFC\"\n",
      "                     /gene_synonym=\"FALLOTEIN; SCDGF\"\n",
      "                     /note=\"Cleavage. /evidence=ECO:0000255; propagated from\n",
      "                     UniProtKB/Swiss-Prot (Q9NRA1.2); cleavage site\"\n",
      "     misc_feature    1596..1601\n",
      "                     /gene=\"PDGFC\"\n",
      "                     /gene_synonym=\"FALLOTEIN; SCDGF\"\n",
      "                     /note=\"Cleavage. /evidence=ECO:0000255; propagated from\n",
      "                     UniProtKB/Swiss-Prot (Q9NRA1.2); cleavage site\"\n",
      "     exon            1015..1210\n",
      "                     /gene=\"PDGFC\"\n",
      "                     /gene_synonym=\"FALLOTEIN; SCDGF\"\n",
      "                     /inference=\"alignment:Splign:2.1.0\"\n",
      "     exon            1211..1391\n",
      "                     /gene=\"PDGFC\"\n",
      "                     /gene_synonym=\"FALLOTEIN; SCDGF\"\n",
      "                     /inference=\"alignment:Splign:2.1.0\"\n",
      "     exon            1392..1599\n",
      "                     /gene=\"PDGFC\"\n",
      "                     /gene_synonym=\"FALLOTEIN; SCDGF\"\n",
      "                     /inference=\"alignment:Splign:2.1.0\"\n",
      "     exon            1600..1817\n",
      "                     /gene=\"PDGFC\"\n",
      "                     /gene_synonym=\"FALLOTEIN; SCDGF\"\n",
      "                     /inference=\"alignment:Splign:2.1.0\"\n",
      "     exon            1818..4570\n",
      "                     /gene=\"PDGFC\"\n",
      "                     /gene_synonym=\"FALLOTEIN; SCDGF\"\n",
      "                     /inference=\"alignment:Splign:2.1.0\"\n",
      "     regulatory      3379..3384\n",
      "                     /regulatory_class=\"polyA_signal_sequence\"\n",
      "                     /gene=\"PDGFC\"\n",
      "                     /gene_synonym=\"FALLOTEIN; SCDGF\"\n",
      "                     /note=\"hexamer: AATAAA\"\n",
      "     polyA_site      3413\n",
      "                     /gene=\"PDGFC\"\n",
      "                     /gene_synonym=\"FALLOTEIN; SCDGF\"\n",
      "                     /note=\"major polyA site\"\n",
      "     regulatory      4547..4552\n",
      "                     /regulatory_class=\"polyA_signal_sequence\"\n",
      "                     /gene=\"PDGFC\"\n",
      "                     /gene_synonym=\"FALLOTEIN; SCDGF\"\n",
      "                     /note=\"hexamer: AATAAA\"\n",
      "     polyA_site      4570\n",
      "                     /gene=\"PDGFC\"\n",
      "                     /gene_synonym=\"FALLOTEIN; SCDGF\"\n",
      "ORIGIN      \n",
      "        1 accccgtgcg gagacgccgc gcgtagcccc gaggttagcg cggagcccga ggcgtggggg\n",
      "       61 gaggggacgg ggaacaaccg gagccccgcg gtgaccccga gcggccgaat tgccccaggc\n",
      "      121 tttgaggagc gggggacgag cccgaacaag gtgaactttg gtcgcggaaa actcaagcca\n",
      "      181 ggtgccggaa tccgtgctgc ggcgctccga acccggggcc aactgcgctc cgggctgagg\n",
      "      241 agcgggagcc ccgcggcctc tctccgcctg cgcccgggcc gccgtcggcc cggagccccc\n",
      "      301 cggccccgct ccggcgcccc ggcccgtggg acccgccgcg gcgccctcgc cttgtttctt\n",
      "      361 ccccctcccc cttcgggggt ggggggtggg gcgggggaga ggggcgcccg gagagccgca\n",
      "      421 tctattggca gctttgttat tgatcagaaa ctgctcgccg ccgacttggc ttccagtctg\n",
      "      481 gctgcgggca acccttgagt tttcgcctct gtcctgtccc ccgaactgac aggtgctccc\n",
      "      541 agcaacttgc tggggacttc tcgccgctcc cccgcgtccc caccccctca ttcctccctc\n",
      "      601 gccttcaccc ccacccccac cacttcgcca cagctcagga tttgtttaaa ccttgggaaa\n",
      "      661 ctggttcagg tccaggtttt gctttgatcc ttttcaaaaa ctggagacac agaagagggc\n",
      "      721 tctaggaaaa agttttggat gggattatgt ggaaactacc ctgcgattct ctgctgccag\n",
      "      781 agcaggctcg gcgcttccac cccagtgcag ccttcccctg gcggtggtga aagagactcg\n",
      "      841 ggagtcgctg cttccaaagt gcccgccgtg agtgagctct caccccagtc agccaaatga\n",
      "      901 gcctcttcgg gcttctcctg ctgacatctg ccctggccgg ccagagacag gggactcagg\n",
      "      961 cggaatccaa cctgagtagt aaattccagt tttccagcaa caaggaacag aacggagtac\n",
      "     1021 aagatcctca gcatgagaga attattactg tgtctactaa tggaagtatt cacagcccaa\n",
      "     1081 ggtttcctca tacttatcca agaaatacgg tcttggtatg gagattagta gcagtagagg\n",
      "     1141 aaaatgtatg gatacaactt acgtttgatg aaagatttgg gcttgaagac ccagaagatg\n",
      "     1201 acatatgcaa gtatgatttt gtagaagttg aggaacccag tgatggaact atattagggc\n",
      "     1261 gctggtgtgg ttctggtact gtaccaggaa aacagatttc taaaggaaat caaattagga\n",
      "     1321 taagatttgt atctgatgaa tattttcctt ctgaaccagg gttctgcatc cactacaaca\n",
      "     1381 ttgtcatgcc acaattcaca gaagctgtga gtccttcagt gctaccccct tcagctttgc\n",
      "     1441 cactggacct gcttaataat gctataactg cctttagtac cttggaagac cttattcgat\n",
      "     1501 atcttgaacc agagagatgg cagttggact tagaagatct atataggcca acttggcaac\n",
      "     1561 ttcttggcaa ggcttttgtt tttggaagaa aatccagagt ggtggatctg aaccttctaa\n",
      "     1621 cagaggaggt aagattatac agctgcacac ctcgtaactt ctcagtgtcc ataagggaag\n",
      "     1681 aactaaagag aaccgatacc attttctggc caggttgtct cctggttaaa cgctgtggtg\n",
      "     1741 ggaactgtgc ctgttgtctc cacaattgca atgaatgtca atgtgtccca agcaaagtta\n",
      "     1801 ctaaaaaata ccacgaggtc cttcagttga gaccaaagac cggtgtcagg ggattgcaca\n",
      "     1861 aatcactcac cgacgtggcc ctggagcacc atgaggagtg tgactgtgtg tgcagaggga\n",
      "     1921 gcacaggagg atagccgcat caccaccagc agctcttgcc cagagctgtg cagtgcagtg\n",
      "     1981 gctgattcta ttagagaacg tatgcgttat ctccatcctt aatctcagtt gtttgcttca\n",
      "     2041 aggacctttc atcttcagga tttacagtgc attctgaaag aggagacatc aaacagaatt\n",
      "     2101 aggagttgtg caacagctct tttgagagga ggcctaaagg acaggagaaa aggtcttcaa\n",
      "     2161 tcgtggaaag aaaattaaat gttgtattaa atagatcacc agctagtttc agagttacca\n",
      "     2221 tgtacgtatt ccactagctg ggttctgtat ttcagttctt tcgatacggc ttagggtaat\n",
      "     2281 gtcagtacag gaaaaaaact gtgcaagtga gcacctgatt ccgttgcctt gcttaactct\n",
      "     2341 aaagctccat gtcctgggcc taaaatcgta taaaatctgg attttttttt ttttttttgc\n",
      "     2401 tcatattcac atatgtaaac cagaacattc tatgtactac aaacctggtt tttaaaaagg\n",
      "     2461 aactatgttg ctatgaatta aacttgtgtc gtgctgatag gacagactgg atttttcata\n",
      "     2521 tttcttatta aaatttctgc catttagaag aagagaacta cattcatggt ttggaagaga\n",
      "     2581 taaacctgaa aagaagagtg gccttatctt cactttatcg ataagtcagt ttatttgttt\n",
      "     2641 cattgtgtac atttttatat tctccttttg acattataac tgttggcttt tctaatcttg\n",
      "     2701 ttaaatatat ctatttttac caaaggtatt taatattctt ttttatgaca acttagatca\n",
      "     2761 actattttta gcttggtaaa tttttctaaa cacaattgtt atagccagag gaacaaagat\n",
      "     2821 gatataaaat attgttgctc tgacaaaaat acatgtattt cattctcgta tggtgctaga\n",
      "     2881 gttagattaa tctgcatttt aaaaaactga attggaatag aattggtaag ttgcaaagac\n",
      "     2941 tttttgaaaa taattaaatt atcatatctt ccattcctgt tattggagat gaaaataaaa\n",
      "     3001 agcaacttat gaaagtagac attcagatcc agccattact aacctattcc ttttttgggg\n",
      "     3061 aaatctgagc ctagctcaga aaaacataaa gcaccttgaa aaagacttgg cagcttcctg\n",
      "     3121 ataaagcgtg ctgtgctgtg cagtaggaac acatcctatt tattgtgatg ttgtggtttt\n",
      "     3181 attatcttaa actctgttcc atacacttgt ataaatacat ggatattttt atgtacagaa\n",
      "     3241 gtatgtctct taaccagttc acttattgta ctctggcaat ttaaaagaaa atcagtaaaa\n",
      "     3301 tattttgctt gtaaaatgct taatatcgtg cctaggttat gtggtgacta tttgaatcaa\n",
      "     3361 aaatgtattg aatcatcaaa taaaagaatg tggctatttt ggggagaaaa ttatgtgtgt\n",
      "     3421 gtgtgctcaa gatttatttc ttggactctg agaaaatgaa agataaaatt ttctgttatg\n",
      "     3481 attttcattt agcaaaagca tatgtcaatt caaaagacaa aaaaagggaa gatacctgtg\n",
      "     3541 agccttctct gcctcttgtt tccaatgcct ttgagcaatg gttttatttt tcttactggt\n",
      "     3601 cttaatacag atttctggta atttaagttt cacctgactt gaaagttgta tggtttatga\n",
      "     3661 aatgcttggt gataggtggt atggtagtat gaaactggaa aaaaacttgc aggtttccac\n",
      "     3721 tcatgtcttc attgtcactg gcaactacta aatggggtga gcataaattg atttggtgca\n",
      "     3781 tggattattg tacattgcac acttcaagat atggttcctc agttccagac atagattcct\n",
      "     3841 attcagggct ggtatcttca gcatcctttc ctcagccttt caacttggca gagatgtcta\n",
      "     3901 gtgtccaggg ccttctgtct tcagactgct cttcaggcaa gcaccctttt cctgtgcttt\n",
      "     3961 gacacctgca gttctgccct gcctccaact atgtggaaaa caaagaaaca aaatgagcct\n",
      "     4021 atgtgttctg tcttacttcc ttaccttttc ctggttttgt cctatccata tagaggccaa\n",
      "     4081 ctagatatat ggaatatgca acgtagtaag tagttggcag tttacaactt tcattagtat\n",
      "     4141 agtaaagact actaagtctt agtaaatagc ctgtttaact gtgtttaatc cattgtttcc\n",
      "     4201 catctttgaa cgaaatatat tttccctttt ttaatattta ttttttgttt acttataaaa\n",
      "     4261 tcttgacagc cagaagagat cataagggta gcagtcctca gttgccagtc ggtgagtggt\n",
      "     4321 taccatgtga ggactaacca ctttataatc acttactcat agatcgtcct gtgtatttta\n",
      "     4381 ctaaacacac acacacacac acacacacat aaatagcaca tgaccctaat ttctgagaag\n",
      "     4441 tacagtaagt attgactgta ttgaccacac accgttttgt gtatgatatc tgtttcaagc\n",
      "     4501 ctttgtcctt gagacatggg ctgttttgcc cagtgatgtt tactaaaata aaagcaagcc\n",
      "     4561 ttaaatgtca\n",
      "//\n",
      "\n",
      "\n"
     ]
    }
   ],
   "source": [
    "Entrez.email=\"margaridaferreiraamgf@gmail.com\"\n",
    "handle=Entrez.efetch(db=\"nucleotide\", id=\"NM_016205.3\", rettype=\"gb\", retmode=\"text\")\n",
    "text=handle.read()\n",
    "print(text)"
   ]
  },
  {
   "cell_type": "code",
   "execution_count": 9,
   "id": "95a90bb1",
   "metadata": {},
   "outputs": [
    {
     "data": {
      "text/plain": [
       "<function TextIOWrapper.close()>"
      ]
     },
     "execution_count": 9,
     "metadata": {},
     "output_type": "execute_result"
    }
   ],
   "source": [
    "Entrez.email=\"margaridaferreiraamgf@gmail.com\"\n",
    "handle=Entrez.efetch(db=\"nucleotide\", id=\"NM_016205.3\", rettype=\"gb\", retmode=\"text\")\n",
    "record=SeqIO.read(handle,\"genbank\")\n",
    "handle.close"
   ]
  },
  {
   "cell_type": "markdown",
   "id": "4a11cc72",
   "metadata": {},
   "source": [
    "4. De seguida, recorreu-se ao módulo Bio.Entrez e ao módulo Bio.SeqIO, para analisar os diversos dados e informações que compõem o ficheiro GenBank da sequência nucleótidica em estudo. O módulo Bio.SeqIO permite ler as sequências de um arquivo, bem como escrever sequências para um arquivo. Deste modo, este módulo foi utilizado para se obter as informações do ficheiro que permitem a identificação da sequência de nucleótidos utilizada, tais como o comprimento da sequência nucleótica, o ID do seu registo, o nome do registo da sequência na base de dados utilizada, bem como a sua descrição, ou seja, o nome da sequência."
   ]
  },
  {
   "cell_type": "code",
   "execution_count": 10,
   "id": "c5192ab6",
   "metadata": {},
   "outputs": [
    {
     "name": "stdout",
     "output_type": "stream",
     "text": [
      "Tamanho da sequência de DNA do gene: 4570\n",
      "ID de registo: NM_016205.3\n",
      "Descrição do registo: Homo sapiens platelet derived growth factor C (PDGFC), transcript variant 1, mRNA\n",
      "Nome do registo: NM_016205\n"
     ]
    }
   ],
   "source": [
    "#tamanho da sequência de DNA do gene PDGFC\n",
    "\n",
    "print(\"Tamanho da sequência de DNA do gene:\", len(record.seq))\n",
    "\n",
    "#ID de registo do gene PDGFC\n",
    "\n",
    "print(\"ID de registo:\", record.id)\n",
    "\n",
    "#descrição do registo do gene PDGFC\n",
    "\n",
    "print(\"Descrição do registo:\", record.description)\n",
    "\n",
    "#nome do resgisto do gene PDGFC\n",
    "\n",
    "print(\"Nome do registo:\", record.name)"
   ]
  },
  {
   "cell_type": "markdown",
   "id": "3d82966e",
   "metadata": {},
   "source": [
    "5. As anotações relativas ao ficheiro GenBank de uma sequência nucleótica são um dicionário que contém informações adicionais sobre a sequência em análise. Primeiramente, obteve-se as anotações associadas ao ficheiro GenBank (record.annotations). Para visualizar mais facilmente as chaves do dicionário que forma as anotações implementou-se o comando record.annotations.keys(). É possivel então obter anotações relativas ao gene em estudo, como o organismo ao qual pertence, a taxonomia, o tipo de gene, entre outros."
   ]
  },
  {
   "cell_type": "code",
   "execution_count": 11,
   "id": "027fc44b",
   "metadata": {},
   "outputs": [
    {
     "data": {
      "text/plain": [
       "{'molecule_type': 'mRNA',\n",
       " 'topology': 'linear',\n",
       " 'data_file_division': 'PRI',\n",
       " 'date': '25-DEC-2022',\n",
       " 'accessions': ['NM_016205'],\n",
       " 'sequence_version': 3,\n",
       " 'keywords': ['RefSeq', 'MANE Select'],\n",
       " 'source': 'Homo sapiens (human)',\n",
       " 'organism': 'Homo sapiens',\n",
       " 'taxonomy': ['Eukaryota',\n",
       "  'Metazoa',\n",
       "  'Chordata',\n",
       "  'Craniata',\n",
       "  'Vertebrata',\n",
       "  'Euteleostomi',\n",
       "  'Mammalia',\n",
       "  'Eutheria',\n",
       "  'Euarchontoglires',\n",
       "  'Primates',\n",
       "  'Haplorrhini',\n",
       "  'Catarrhini',\n",
       "  'Hominidae',\n",
       "  'Homo'],\n",
       " 'references': [Reference(title='Physical and functional interactome atlas of human receptor tyrosine kinases', ...),\n",
       "  Reference(title='RNA N6-methyladenosine demethylase FTO promotes pancreatic cancer progression by inducing the autocrine activity of PDGFC in an m6A-YTHDF2-dependent manner', ...),\n",
       "  Reference(title='Expression and function of PDGF-C in development and stem cells', ...),\n",
       "  Reference(title='Cancer-associated fibroblast secretion of PDGFC promotes gastrointestinal stromal tumor growth and metastasis', ...),\n",
       "  Reference(title='Platelet-Derived Growth Factor C in Alcoholics', ...),\n",
       "  Reference(title='Platelet-derived growth factor C (PDGF-C), a novel growth factor that binds to PDGF alpha and beta receptor', ...),\n",
       "  Reference(title='PDGF-C is an EWS/FLI induced transforming growth factor in Ewing family tumors', ...),\n",
       "  Reference(title='Identification of a novel platelet-derived growth factor-like gene, fallotein, in the human reproductive tract', ...),\n",
       "  Reference(title='A novel gene derived from developing spinal cords, SCDGF, is a unique member of the PDGF/VEGF family', ...),\n",
       "  Reference(title='PDGF-C is a new protease-activated ligand for the PDGF alpha-receptor', ...)],\n",
       " 'comment': 'REVIEWED REFSEQ: This record has been curated by NCBI staff. The\\nreference sequence was derived from AC093325.3, AF091434.1,\\nAI446155.1 and AC092608.2.\\nOn Nov 23, 2018 this sequence version replaced NM_016205.2.\\nSummary: The protein encoded by this gene is a member of the\\nplatelet-derived growth factor family. The four members of this\\nfamily are mitogenic factors for cells of mesenchymal origin and\\nare characterized by a core motif of eight cysteines. This gene\\nproduct appears to form only homodimers. It differs from the\\nplatelet-derived growth factor alpha and beta polypeptides in\\nhaving an unusual N-terminal domain, the CUB domain. Alternatively\\nspliced transcript variants have been found for this gene.\\n[provided by RefSeq, Sep 2010].\\nTranscript Variant: This variant (1) represents the shorter\\ntranscript and encodes the functional protein.\\nPublication Note:  This RefSeq record includes a subset of the\\npublications that are available for this gene. Please see the Gene\\nrecord to access additional publications.\\nCOMPLETENESS: full length.',\n",
       " 'structured_comment': OrderedDict([('Evidence-Data',\n",
       "               OrderedDict([('Transcript exon combination',\n",
       "                             'AF091434.1, AY358493.2 [ECO:0000332]'),\n",
       "                            ('RNAseq introns',\n",
       "                             'mixed sample support SAMEA1965299, SAMEA1966682 [ECO:0006172]')])),\n",
       "              ('RefSeq-Attributes',\n",
       "               OrderedDict([('MANE Ensembl match',\n",
       "                             'ENST00000502773.6/ ENSP00000422464.1'),\n",
       "                            ('RefSeq Select criteria',\n",
       "                             'based on conservation, expression, longest protein')]))])}"
      ]
     },
     "execution_count": 11,
     "metadata": {},
     "output_type": "execute_result"
    }
   ],
   "source": [
    "#ANOTAÇÕES\n",
    "\n",
    "#lista de anotações globais para o registo do gene PDGFC\n",
    "\n",
    "record.annotations"
   ]
  },
  {
   "cell_type": "code",
   "execution_count": 12,
   "id": "cd77ef15",
   "metadata": {},
   "outputs": [
    {
     "data": {
      "text/plain": [
       "['molecule_type',\n",
       " 'topology',\n",
       " 'data_file_division',\n",
       " 'date',\n",
       " 'accessions',\n",
       " 'sequence_version',\n",
       " 'keywords',\n",
       " 'source',\n",
       " 'organism',\n",
       " 'taxonomy',\n",
       " 'references',\n",
       " 'comment',\n",
       " 'structured_comment']"
      ]
     },
     "execution_count": 12,
     "metadata": {},
     "output_type": "execute_result"
    }
   ],
   "source": [
    "#anotações associadas ao registo do gene PDGFC\n",
    "#chaves do dicionário que forma as anotações\n",
    "\n",
    "list(record.annotations.keys())"
   ]
  },
  {
   "cell_type": "code",
   "execution_count": 13,
   "id": "aaec706d",
   "metadata": {},
   "outputs": [
    {
     "data": {
      "text/plain": [
       "'mRNA'"
      ]
     },
     "execution_count": 13,
     "metadata": {},
     "output_type": "execute_result"
    }
   ],
   "source": [
    "#tipo de molécula\n",
    "\n",
    "record.annotations[\"molecule_type\"]"
   ]
  },
  {
   "cell_type": "code",
   "execution_count": 14,
   "id": "4131b8ec",
   "metadata": {},
   "outputs": [
    {
     "data": {
      "text/plain": [
       "'linear'"
      ]
     },
     "execution_count": 14,
     "metadata": {},
     "output_type": "execute_result"
    }
   ],
   "source": [
    "#topologia\n",
    "\n",
    "record.annotations[\"topology\"]"
   ]
  },
  {
   "cell_type": "code",
   "execution_count": 15,
   "id": "06092306",
   "metadata": {},
   "outputs": [
    {
     "data": {
      "text/plain": [
       "'PRI'"
      ]
     },
     "execution_count": 15,
     "metadata": {},
     "output_type": "execute_result"
    }
   ],
   "source": [
    "#data_file_division\n",
    "\n",
    "record.annotations[\"data_file_division\"]"
   ]
  },
  {
   "cell_type": "code",
   "execution_count": 16,
   "id": "8d651603",
   "metadata": {},
   "outputs": [
    {
     "data": {
      "text/plain": [
       "['NM_016205']"
      ]
     },
     "execution_count": 16,
     "metadata": {},
     "output_type": "execute_result"
    }
   ],
   "source": [
    "#accessions\n",
    "\n",
    "record.annotations[\"accessions\"]"
   ]
  },
  {
   "cell_type": "code",
   "execution_count": 17,
   "id": "646875ce",
   "metadata": {},
   "outputs": [
    {
     "data": {
      "text/plain": [
       "3"
      ]
     },
     "execution_count": 17,
     "metadata": {},
     "output_type": "execute_result"
    }
   ],
   "source": [
    "#sequence_version\n",
    "\n",
    "record.annotations[\"sequence_version\"]"
   ]
  },
  {
   "cell_type": "code",
   "execution_count": 18,
   "id": "b20fe4d4",
   "metadata": {},
   "outputs": [
    {
     "data": {
      "text/plain": [
       "['RefSeq', 'MANE Select']"
      ]
     },
     "execution_count": 18,
     "metadata": {},
     "output_type": "execute_result"
    }
   ],
   "source": [
    "#Keywords\n",
    "\n",
    "record.annotations[\"keywords\"]"
   ]
  },
  {
   "cell_type": "code",
   "execution_count": 19,
   "id": "2e0fc915",
   "metadata": {},
   "outputs": [
    {
     "data": {
      "text/plain": [
       "'Homo sapiens (human)'"
      ]
     },
     "execution_count": 19,
     "metadata": {},
     "output_type": "execute_result"
    }
   ],
   "source": [
    "#source\n",
    "\n",
    "record.annotations[\"source\"]"
   ]
  },
  {
   "cell_type": "code",
   "execution_count": 20,
   "id": "d75c4115",
   "metadata": {},
   "outputs": [
    {
     "data": {
      "text/plain": [
       "'Homo sapiens'"
      ]
     },
     "execution_count": 20,
     "metadata": {},
     "output_type": "execute_result"
    }
   ],
   "source": [
    "#organismo\n",
    "\n",
    "record.annotations[\"organism\"]"
   ]
  },
  {
   "cell_type": "code",
   "execution_count": 21,
   "id": "c9ba92c4",
   "metadata": {},
   "outputs": [
    {
     "data": {
      "text/plain": [
       "['Eukaryota',\n",
       " 'Metazoa',\n",
       " 'Chordata',\n",
       " 'Craniata',\n",
       " 'Vertebrata',\n",
       " 'Euteleostomi',\n",
       " 'Mammalia',\n",
       " 'Eutheria',\n",
       " 'Euarchontoglires',\n",
       " 'Primates',\n",
       " 'Haplorrhini',\n",
       " 'Catarrhini',\n",
       " 'Hominidae',\n",
       " 'Homo']"
      ]
     },
     "execution_count": 21,
     "metadata": {},
     "output_type": "execute_result"
    }
   ],
   "source": [
    "#taxonomia\n",
    "\n",
    "record.annotations[\"taxonomy\"]"
   ]
  },
  {
   "cell_type": "markdown",
   "id": "04034782",
   "metadata": {},
   "source": [
    "6. O ficheiro em formato GenBank fornece também as features de uma sequência nucleótidica. Assim, o código abaixo implementado permite obter a lista de features do ficheiro, a quantidade de features existentes, e ainda o seu tipo e a localização de cada uma delas. Para se conseguir obter estas informações foi necessário recorrer ao módulo Bio.SeqFeature, bem como aos módulos Bio.SeqIO e Bio.Entrez."
   ]
  },
  {
   "cell_type": "code",
   "execution_count": 22,
   "id": "2940916b",
   "metadata": {},
   "outputs": [
    {
     "data": {
      "text/plain": [
       "list"
      ]
     },
     "execution_count": 22,
     "metadata": {},
     "output_type": "execute_result"
    }
   ],
   "source": [
    "#FEATURES\n",
    "\n",
    "#tipo de features do registo do gene PDGFC\n",
    "\n",
    "type(record.features)"
   ]
  },
  {
   "cell_type": "code",
   "execution_count": 23,
   "id": "c8b1f6e5",
   "metadata": {},
   "outputs": [
    {
     "name": "stdout",
     "output_type": "stream",
     "text": [
      "Existem 20 features no registo do gene PDGFC\n"
     ]
    }
   ],
   "source": [
    "#quantidade de features no registo de PDGFC\n",
    "\n",
    "print(\"Existem\", len(record.features), \"features no registo do gene PDGFC\")"
   ]
  },
  {
   "cell_type": "code",
   "execution_count": 24,
   "id": "ce5b6e3d",
   "metadata": {},
   "outputs": [
    {
     "data": {
      "text/plain": [
       "[SeqFeature(FeatureLocation(ExactPosition(0), ExactPosition(4570), strand=1), type='source'),\n",
       " SeqFeature(FeatureLocation(ExactPosition(0), ExactPosition(4570), strand=1), type='gene'),\n",
       " SeqFeature(FeatureLocation(ExactPosition(0), ExactPosition(1014), strand=1), type='exon'),\n",
       " SeqFeature(FeatureLocation(ExactPosition(872), ExactPosition(875), strand=1), type='misc_feature'),\n",
       " SeqFeature(FeatureLocation(ExactPosition(896), ExactPosition(1934), strand=1), type='CDS'),\n",
       " SeqFeature(FeatureLocation(ExactPosition(896), ExactPosition(962), strand=1), type='sig_peptide'),\n",
       " SeqFeature(FeatureLocation(ExactPosition(968), ExactPosition(971), strand=1), type='misc_feature'),\n",
       " SeqFeature(FeatureLocation(ExactPosition(1058), ExactPosition(1061), strand=1), type='misc_feature'),\n",
       " SeqFeature(FeatureLocation(ExactPosition(1568), ExactPosition(1574), strand=1), type='misc_feature'),\n",
       " SeqFeature(FeatureLocation(ExactPosition(1586), ExactPosition(1592), strand=1), type='misc_feature'),\n",
       " SeqFeature(FeatureLocation(ExactPosition(1595), ExactPosition(1601), strand=1), type='misc_feature'),\n",
       " SeqFeature(FeatureLocation(ExactPosition(1014), ExactPosition(1210), strand=1), type='exon'),\n",
       " SeqFeature(FeatureLocation(ExactPosition(1210), ExactPosition(1391), strand=1), type='exon'),\n",
       " SeqFeature(FeatureLocation(ExactPosition(1391), ExactPosition(1599), strand=1), type='exon'),\n",
       " SeqFeature(FeatureLocation(ExactPosition(1599), ExactPosition(1817), strand=1), type='exon'),\n",
       " SeqFeature(FeatureLocation(ExactPosition(1817), ExactPosition(4570), strand=1), type='exon'),\n",
       " SeqFeature(FeatureLocation(ExactPosition(3378), ExactPosition(3384), strand=1), type='regulatory'),\n",
       " SeqFeature(FeatureLocation(ExactPosition(3412), ExactPosition(3413), strand=1), type='polyA_site'),\n",
       " SeqFeature(FeatureLocation(ExactPosition(4546), ExactPosition(4552), strand=1), type='regulatory'),\n",
       " SeqFeature(FeatureLocation(ExactPosition(4569), ExactPosition(4570), strand=1), type='polyA_site')]"
      ]
     },
     "execution_count": 24,
     "metadata": {},
     "output_type": "execute_result"
    }
   ],
   "source": [
    "#lista de features do registo de PDGFC\n",
    "\n",
    "record.features"
   ]
  },
  {
   "cell_type": "code",
   "execution_count": 25,
   "id": "a41b7ac3",
   "metadata": {},
   "outputs": [
    {
     "name": "stdout",
     "output_type": "stream",
     "text": [
      "source\n",
      "[0:4570](+)\n",
      "gene\n",
      "[0:4570](+)\n",
      "exon\n",
      "[0:1014](+)\n",
      "misc_feature\n",
      "[872:875](+)\n",
      "CDS\n",
      "[896:1934](+)\n",
      "sig_peptide\n",
      "[896:962](+)\n",
      "misc_feature\n",
      "[968:971](+)\n",
      "misc_feature\n",
      "[1058:1061](+)\n",
      "misc_feature\n",
      "[1568:1574](+)\n",
      "misc_feature\n",
      "[1586:1592](+)\n",
      "misc_feature\n",
      "[1595:1601](+)\n",
      "exon\n",
      "[1014:1210](+)\n",
      "exon\n",
      "[1210:1391](+)\n",
      "exon\n",
      "[1391:1599](+)\n",
      "exon\n",
      "[1599:1817](+)\n",
      "exon\n",
      "[1817:4570](+)\n",
      "regulatory\n",
      "[3378:3384](+)\n",
      "polyA_site\n",
      "[3412:3413](+)\n",
      "regulatory\n",
      "[4546:4552](+)\n",
      "polyA_site\n",
      "[4569:4570](+)\n"
     ]
    }
   ],
   "source": [
    "#tipo e localização de cada feature do registo do gene PDGFC\n",
    "\n",
    "for f in record.features:\n",
    "    print(f.type)\n",
    "    print(f.location)"
   ]
  },
  {
   "cell_type": "markdown",
   "id": "f19c122b",
   "metadata": {},
   "source": [
    "7. Através da lista de features obtida, verfica-se que o ficheiro GenBank da sequência nuclotídica PDGFC apresenta diferentes tipos de features, como sequências codificantes (CDS), genes, exões entre outros. De modo, a identificar as sequências codifcantes associadas ao registo de PDGFC implementou-se o seguinte código, sendo possivel obter a quantidade de sequências codificantes que existem na sequência nucleotídica PDGFC, bem como a sua localização. Salienta-se que cada tipo de feature possui \"qualifiers\" associados. Como tal, através do seguinte código é também possível analisar esses \"qualfiers\", determinando-se qual o nome das proteínas codificadas pelas sequências codificantes encontradas, bem como as suas sequências de aminoácidos (tradução da sequência codificante)."
   ]
  },
  {
   "cell_type": "code",
   "execution_count": 27,
   "id": "47e11627",
   "metadata": {},
   "outputs": [
    {
     "name": "stdout",
     "output_type": "stream",
     "text": [
      "nº de features sequências codificantes: 1\n",
      "indice das sequências codificantes: [4]\n",
      " \n",
      "['NP_057289.1']\n",
      "['platelet-derived growth factor C precursor']\n",
      "['MSLFGLLLLTSALAGQRQGTQAESNLSSKFQFSSNKEQNGVQDPQHERIITVSTNGSIHSPRFPHTYPRNTVLVWRLVAVEENVWIQLTFDERFGLEDPEDDICKYDFVEVEEPSDGTILGRWCGSGTVPGKQISKGNQIRIRFVSDEYFPSEPGFCIHYNIVMPQFTEAVSPSVLPPSALPLDLLNNAITAFSTLEDLIRYLEPERWQLDLEDLYRPTWQLLGKAFVFGRKSRVVDLNLLTEEVRLYSCTPRNFSVSIREELKRTDTIFWPGCLLVKRCGGNCACCLHNCNECQCVPSKVTKKYHEVLQLRPKTGVRGLHKSLTDVALEHHEECDCVCRGSTGG']\n"
     ]
    }
   ],
   "source": [
    "#sequências codificantes do registo do gene PDGFC(csd)\n",
    "\n",
    "features_cds=[]\n",
    "numero_cds=0\n",
    "for i in range(len(record.features)):\n",
    "    if record.features[i].type==\"CDS\":\n",
    "        features_cds.append(i)\n",
    "        numero_cds+=1\n",
    "    #qualifiers associados às sequências codificantes do registo de LYPLAL1\n",
    "    for j in features_cds:\n",
    "        id_proteina=record.features[j].qualifiers[\"protein_id\"]\n",
    "        product=record.features[j].qualifiers[\"product\"]\n",
    "        traducao=record.features[j].qualifiers[\"translation\"]\n",
    "        \n",
    "print(\"nº de features sequências codificantes:\", numero_cds)\n",
    "print(\"indice das sequências codificantes:\", features_cds)\n",
    "print(\" \")\n",
    "print(id_proteina)\n",
    "print(product)\n",
    "print(traducao)"
   ]
  },
  {
   "cell_type": "code",
   "execution_count": 28,
   "id": "2e9d2d86",
   "metadata": {},
   "outputs": [
    {
     "data": {
      "text/plain": [
       "OrderedDict([('gene', ['PDGFC']), ('gene_synonym', ['FALLOTEIN; SCDGF'])])"
      ]
     },
     "execution_count": 28,
     "metadata": {},
     "output_type": "execute_result"
    }
   ],
   "source": [
    "#lista dos qualifiers associados às sequências codificantes\n",
    "\n",
    "record.features[i].qualifiers"
   ]
  },
  {
   "cell_type": "markdown",
   "id": "70b47330",
   "metadata": {},
   "source": [
    "8. Outro tipo de feature encontrada no registo de PDGFC é a feature do tipo gene. De seguida, implementou-se um código que permite obter o número de genes anotados no registo de PDGFC, bem como a sua localização e a sua designação."
   ]
  },
  {
   "cell_type": "code",
   "execution_count": 29,
   "id": "2d0ab9d0",
   "metadata": {},
   "outputs": [
    {
     "name": "stdout",
     "output_type": "stream",
     "text": [
      "número de features do tipo gene: 1\n",
      " \n",
      "1\n",
      "['PDGFC']\n"
     ]
    }
   ],
   "source": [
    "#genes anotados no registo PDGFC\n",
    "\n",
    "features_gene=[]\n",
    "for g in range(len(record.features)):\n",
    "    if record.features[g].type==\"gene\":\n",
    "        features_gene.append(g)\n",
    "    for q in features_gene:\n",
    "        localizacao=record.features[q].location.strand\n",
    "        gene=record.features[q].qualifiers[\"gene\"]\n",
    "        \n",
    "print(\"número de features do tipo gene:\", len(features_gene))\n",
    "print(\" \")\n",
    "print(localizacao)\n",
    "print(gene)"
   ]
  },
  {
   "cell_type": "code",
   "execution_count": 30,
   "id": "00b99cfe",
   "metadata": {},
   "outputs": [
    {
     "data": {
      "text/plain": [
       "OrderedDict([('gene', ['PDGFC']), ('gene_synonym', ['FALLOTEIN; SCDGF'])])"
      ]
     },
     "execution_count": 30,
     "metadata": {},
     "output_type": "execute_result"
    }
   ],
   "source": [
    "#qualifiers associados ao feature do tipo gene\n",
    "\n",
    "record.features[g].qualifiers"
   ]
  },
  {
   "cell_type": "markdown",
   "id": "8e38b827",
   "metadata": {},
   "source": [
    "9. Outro tipo de feature encontrada no registo de PDGFC é a feature do tipo exon. De seguida, implementou-se um código que permite obter o número de exões anotados no registo de PDGFC, bem como a sua localização na sequência nucleótidca. Realça-se que um exão corresponde a um segmento de uma sequência nucleótidos de um gene eucariótico cujo segmento transcrito sobrevive ao processo de excisão (ou splicing ou processamento).\n",
    "\n",
    "\n",
    "(Não sei se isto é necessário) :)"
   ]
  },
  {
   "cell_type": "code",
   "execution_count": 31,
   "id": "1a762cba",
   "metadata": {},
   "outputs": [
    {
     "name": "stdout",
     "output_type": "stream",
     "text": [
      "nº de features do tipo exoes: 6\n",
      "indice dos exões: [2, 11, 12, 13, 14, 15]\n"
     ]
    }
   ],
   "source": [
    "#exões existentes no registo de LYPLAL1\n",
    "\n",
    "features_exoes=[]\n",
    "numero_exoes=0\n",
    "for e in range(len(record.features)):\n",
    "    if record.features[e].type==\"exon\":\n",
    "        features_exoes.append(e)\n",
    "        numero_exoes+=1\n",
    "print(\"nº de features do tipo exoes:\", numero_exoes)\n",
    "print(\"indice dos exões:\", features_exoes)"
   ]
  }
 ],
 "metadata": {
  "kernelspec": {
   "display_name": "Python 3 (ipykernel)",
   "language": "python",
   "name": "python3"
  },
  "language_info": {
   "codemirror_mode": {
    "name": "ipython",
    "version": 3
   },
   "file_extension": ".py",
   "mimetype": "text/x-python",
   "name": "python",
   "nbconvert_exporter": "python",
   "pygments_lexer": "ipython3",
   "version": "3.9.12"
  }
 },
 "nbformat": 4,
 "nbformat_minor": 5
}
