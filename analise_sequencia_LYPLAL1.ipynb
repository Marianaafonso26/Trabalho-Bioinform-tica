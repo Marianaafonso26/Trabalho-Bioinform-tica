{
 "cells": [
  {
   "cell_type": "markdown",
   "id": "71af4b1b",
   "metadata": {},
   "source": [
    "# Análise da sequência e das features presentes no NCBI - Gene LYPLAL1"
   ]
  },
  {
   "cell_type": "markdown",
   "id": "00db4c03",
   "metadata": {},
   "source": [
    "1. Carregamento do package e dos módulos necessários"
   ]
  },
  {
   "cell_type": "code",
   "execution_count": 31,
   "id": "3e7bbf29",
   "metadata": {},
   "outputs": [],
   "source": [
    "from Bio import Seq\n",
    "from Bio import SeqFeature\n",
    "from Bio import SeqIO\n",
    "from Bio import Entrez"
   ]
  },
  {
   "cell_type": "markdown",
   "id": "ab62d777",
   "metadata": {},
   "source": [
    "2. O código abaixo implementado tem como principal objetivo a obtenção de um ficheiro em formato GenBank da sequência nucleótidica  do gene LYPLAL1 no organismo Homo sapiens, nomeadamente o ficheiro no formato GenBank da sequência de nucleótidos com registo NM_001350628.2 no BLAST. Assim, primeiramente, o código implementado permite aceder a uma lista que contém todos os IDs dos registos das sequências nucleótidicas associadas ao gene em análise, nomeadamente a sequência nucleótica da qual pretendemos obter o seu formato GenBank. Para tal, recorreu-se a funções do módulo Bio.Entrez, como Entrez.esearch, com o intuito de procurar o gene LYPLAL1 no organismo Homo sapiens e Entrez.read para se obter os IDs das diferentes sequências nucleóticas, tendo-se obtido numa lista, designada por IdList, 20 IDs diferentes. Como tal, constata-se que existem 20 sequências nucleóticas distintas relacionadas com o gene LYPLAL1."
   ]
  },
  {
   "cell_type": "code",
   "execution_count": 32,
   "id": "6510358e",
   "metadata": {},
   "outputs": [
    {
     "data": {
      "text/plain": [
       "['NM_001350628.2', 'NM_001300772.2', 'NM_001300770.2', 'NM_001300769.2', 'NM_001350629.2', 'NM_001300771.2', 'NM_138794.5', 'NC_060925.1', 'NC_000001.11', 'XR_007078569.1', 'XM_047445138.1', 'XR_007078568.1', 'XR_001736968.3', 'XR_007078567.1', 'XR_007078566.1', 'XR_007078565.1', 'XM_047445134.1', 'XR_007078564.1', 'XR_007078563.1', 'XR_007078562.1']"
      ]
     },
     "execution_count": 32,
     "metadata": {},
     "output_type": "execute_result"
    }
   ],
   "source": [
    "Entrez.email=\"pg50589@alunos.uminho.pt\"\n",
    "Entrez.tool=\"Demoscript\"\n",
    "handle=Entrez.esearch(db=\"nucleotide\", term=\"Homo sapiens[Orgn] AND LYPLAL1[Gene]\",idtype=\"acc\")\n",
    "record=Entrez.read(handle)\n",
    "record[\"Count\"]\n",
    "record[\"IdList\"]"
   ]
  },
  {
   "cell_type": "markdown",
   "id": "0a0b5fa7",
   "metadata": {},
   "source": [
    "3. De seguida, a partir da lista que contém todos os IDs das sequências nucleóticas, selecionou-se o ID da sequência que se pretende, neste caso NM_001300770.2. Recorreu-se à função Entrez.efetch do módulo Bio.Entrez, para se obter o registo completo em formato GenBank da sequência. Posteriormente, imprimiu-se o ficheiro em formato GenBank correspondente à sequência nucleótidica do gene LYPLAL1 no organismos Homo sapiens."
   ]
  },
  {
   "cell_type": "code",
   "execution_count": 33,
   "id": "9eae2ffa",
   "metadata": {},
   "outputs": [
    {
     "name": "stdout",
     "output_type": "stream",
     "text": [
      "LOCUS       NM_001350628            1884 bp    mRNA    linear   PRI 31-DEC-2022\n",
      "DEFINITION  Homo sapiens lysophospholipase like 1 (LYPLAL1), transcript variant\n",
      "            6, mRNA.\n",
      "ACCESSION   NM_001350628 XM_011509182\n",
      "VERSION     NM_001350628.2\n",
      "KEYWORDS    RefSeq.\n",
      "SOURCE      Homo sapiens (human)\n",
      "  ORGANISM  Homo sapiens\n",
      "            Eukaryota; Metazoa; Chordata; Craniata; Vertebrata; Euteleostomi;\n",
      "            Mammalia; Eutheria; Euarchontoglires; Primates; Haplorrhini;\n",
      "            Catarrhini; Hominidae; Homo.\n",
      "REFERENCE   1  (bases 1 to 1884)\n",
      "  AUTHORS   Luck K, Kim DK, Lambourne L, Spirohn K, Begg BE, Bian W, Brignall\n",
      "            R, Cafarelli T, Campos-Laborie FJ, Charloteaux B, Choi D, Cote AG,\n",
      "            Daley M, Deimling S, Desbuleux A, Dricot A, Gebbia M, Hardy MF,\n",
      "            Kishore N, Knapp JJ, Kovacs IA, Lemmens I, Mee MW, Mellor JC,\n",
      "            Pollis C, Pons C, Richardson AD, Schlabach S, Teeking B, Yadav A,\n",
      "            Babor M, Balcha D, Basha O, Bowman-Colin C, Chin SF, Choi SG,\n",
      "            Colabella C, Coppin G, D'Amata C, De Ridder D, De Rouck S,\n",
      "            Duran-Frigola M, Ennajdaoui H, Goebels F, Goehring L, Gopal A,\n",
      "            Haddad G, Hatchi E, Helmy M, Jacob Y, Kassa Y, Landini S, Li R, van\n",
      "            Lieshout N, MacWilliams A, Markey D, Paulson JN, Rangarajan S,\n",
      "            Rasla J, Rayhan A, Rolland T, San-Miguel A, Shen Y, Sheykhkarimli\n",
      "            D, Sheynkman GM, Simonovsky E, Tasan M, Tejeda A, Tropepe V,\n",
      "            Twizere JC, Wang Y, Weatheritt RJ, Weile J, Xia Y, Yang X,\n",
      "            Yeger-Lotem E, Zhong Q, Aloy P, Bader GD, De Las Rivas J, Gaudet S,\n",
      "            Hao T, Rak J, Tavernier J, Hill DE, Vidal M, Roth FP and Calderwood\n",
      "            MA.\n",
      "  TITLE     A reference map of the human binary protein interactome\n",
      "  JOURNAL   Nature 580 (7803), 402-408 (2020)\n",
      "   PUBMED   32296183\n",
      "REFERENCE   2  (bases 1 to 1884)\n",
      "  AUTHORS   Sliz E, Sebert S, Wurtz P, Kangas AJ, Soininen P, Lehtimaki T,\n",
      "            Kahonen M, Viikari J, Mannikko M, Ala-Korpela M, Raitakari OT and\n",
      "            Kettunen J.\n",
      "  TITLE     NAFLD risk alleles in PNPLA3, TM6SF2, GCKR and LYPLAL1 show\n",
      "            divergent metabolic effects\n",
      "  JOURNAL   Hum Mol Genet 27 (12), 2214-2223 (2018)\n",
      "   PUBMED   29648650\n",
      "  REMARK    GeneRIF: Metabolic effects of LYPLAL1 rs12137855-C were similar,\n",
      "            but statistically less robust, to the effects of GCKR rs1260326-T.\n",
      "            TM6SF2 rs58542926-T displayed opposite metabolic effects when\n",
      "            compared with the fatty liver associations.\n",
      "REFERENCE   3  (bases 1 to 1884)\n",
      "  AUTHORS   Lv D, Zhou D, Zhang Y, Zhang S and Zhu YM.\n",
      "  TITLE     Two obesity susceptibility loci in LYPLAL1 and ETV5 independently\n",
      "            associated with childhood hypertension in Chinese population\n",
      "  JOURNAL   Gene 627, 284-289 (2017)\n",
      "   PUBMED   28645872\n",
      "  REMARK    GeneRIF: Novel LYPLAL1 SNP rs2605100 is associated with childhood\n",
      "            hypertension adjusted by obesity.\n",
      "REFERENCE   4  (bases 1 to 1884)\n",
      "  AUTHORS   Flores YN, Velazquez-Cruz R, Ramirez P, Banuelos M, Zhang ZF, Yee\n",
      "            HF Jr, Chang SC, Canizales-Quinteros S, Quiterio M, Cabrera-Alvarez\n",
      "            G, Patino N and Salmeron J.\n",
      "  TITLE     Association between PNPLA3 (rs738409), LYPLAL1 (rs12137855),\n",
      "            PPP1R3B (rs4240624), GCKR (rs780094), and elevated transaminase\n",
      "            levels in overweight/obese Mexican adults\n",
      "  JOURNAL   Mol Biol Rep 43 (12), 1359-1369 (2016)\n",
      "   PUBMED   27752939\n",
      "  REMARK    GeneRIF: Among Mexicans, the PNPLA3 (rs738409), LYPLAL1\n",
      "            (rs12137855), PPP1R3B (rs4240624), and GCKR (rs780094)\n",
      "            polymorphisms may be associated with a greater risk of chronic\n",
      "            liver disease among overweight adults.\n",
      "REFERENCE   5  (bases 1 to 1884)\n",
      "  AUTHORS   Bandstein M, Mwinyi J, Ernst B, Thurnheer M, Schultes B and Schioth\n",
      "            HB.\n",
      "  TITLE     A genetic variant in proximity to the gene LYPLAL1 is associated\n",
      "            with lower hunger feelings and increased weight loss following\n",
      "            Roux-en-Y gastric bypass surgery\n",
      "  JOURNAL   Scand J Gastroenterol 51 (9), 1050-1055 (2016)\n",
      "   PUBMED   27181159\n",
      "  REMARK    GeneRIF: The LYPLAL1 genotype is associated with differences in\n",
      "            eating behavior and loss of extensive body weight following\n",
      "            Roux-en-Y gastric bypass (RYGB) surgery. Genotyping and the use of\n",
      "            eating behavior-related questionnaires may help to estimate the\n",
      "            RYGB-associated therapy success.\n",
      "REFERENCE   6  (bases 1 to 1884)\n",
      "  AUTHORS   Burger M, Zimmermann TJ, Kondoh Y, Stege P, Watanabe N, Osada H,\n",
      "            Waldmann H and Vetter IR.\n",
      "  TITLE     Crystal structure of the predicted phospholipase LYPLAL1 reveals\n",
      "            unexpected functional plasticity despite close relationship to acyl\n",
      "            protein thioesterases\n",
      "  JOURNAL   J Lipid Res 53 (1), 43-50 (2012)\n",
      "   PUBMED   22052940\n",
      "  REMARK    GeneRIF: LYPLAL1 exhibits neither phospholipase nor triacylglycerol\n",
      "            lipase activity, but rather accepts short-chain substrates\n",
      "REFERENCE   7  (bases 1 to 1884)\n",
      "  AUTHORS   Bille DS, Banasik K, Justesen JM, Sandholt CH, Sandbaek A,\n",
      "            Lauritzen T, Jorgensen T, Witte DR, Holm JC, Hansen T and Pedersen\n",
      "            O.\n",
      "  TITLE     Implications of central obesity-related variants in LYPLAL1, NRXN3,\n",
      "            MSRA, and TFAP2B on quantitative metabolic traits in adult Danes\n",
      "  JOURNAL   PLoS One 6 (6), e20640 (2011)\n",
      "   PUBMED   21674055\n",
      "  REMARK    GeneRIF: central obesity-associated variants in LYPLAL1, NRXN3,\n",
      "            MSRA, and TFAP2B\n",
      "REFERENCE   8  (bases 1 to 1884)\n",
      "  AUTHORS   Hotta K, Nakamura M, Nakamura T, Matsuo T, Nakata Y, Kamohara S,\n",
      "            Miyatake N, Kotani K, Komatsu R, Itoh N, Mineo I, Wada J, Yoneda M,\n",
      "            Nakajima A, Funahashi T, Miyazaki S, Tokunaga K, Kawamoto M,\n",
      "            Masuzaki H, Ueno T, Hamaguchi K, Tanaka K, Yamada K, Hanafusa T,\n",
      "            Oikawa S, Yoshimatsu H, Nakao K, Sakata T, Matsuzawa Y, Nakamura Y\n",
      "            and Kamatani N.\n",
      "  TITLE     Polymorphisms in NRXN3, TFAP2B, MSRA, LYPLAL1, FTO and MC4R and\n",
      "            their effect on visceral fat area in the Japanese population\n",
      "  JOURNAL   J Hum Genet 55 (11), 738-742 (2010)\n",
      "   PUBMED   20703240\n",
      "  REMARK    GeneRIF: Observational study of gene-disease association. (HuGE\n",
      "            Navigator)\n",
      "REFERENCE   9  (bases 1 to 1884)\n",
      "  AUTHORS   Lindgren CM, Heid IM, Randall JC, Lamina C, Steinthorsdottir V, Qi\n",
      "            L, Speliotes EK, Thorleifsson G, Willer CJ, Herrera BM, Jackson AU,\n",
      "            Lim N, Scheet P, Soranzo N, Amin N, Aulchenko YS, Chambers JC,\n",
      "            Drong A, Luan J, Lyon HN, Rivadeneira F, Sanna S, Timpson NJ,\n",
      "            Zillikens MC, Zhao JH, Almgren P, Bandinelli S, Bennett AJ, Bergman\n",
      "            RN, Bonnycastle LL, Bumpstead SJ, Chanock SJ, Cherkas L, Chines P,\n",
      "            Coin L, Cooper C, Crawford G, Doering A, Dominiczak A, Doney AS,\n",
      "            Ebrahim S, Elliott P, Erdos MR, Estrada K, Ferrucci L, Fischer G,\n",
      "            Forouhi NG, Gieger C, Grallert H, Groves CJ, Grundy S, Guiducci C,\n",
      "            Hadley D, Hamsten A, Havulinna AS, Hofman A, Holle R, Holloway JW,\n",
      "            Illig T, Isomaa B, Jacobs LC, Jameson K, Jousilahti P, Karpe F,\n",
      "            Kuusisto J, Laitinen J, Lathrop GM, Lawlor DA, Mangino M, McArdle\n",
      "            WL, Meitinger T, Morken MA, Morris AP, Munroe P, Narisu N,\n",
      "            Nordstrom A, Nordstrom P, Oostra BA, Palmer CN, Payne F, Peden JF,\n",
      "            Prokopenko I, Renstrom F, Ruokonen A, Salomaa V, Sandhu MS, Scott\n",
      "            LJ, Scuteri A, Silander K, Song K, Yuan X, Stringham HM, Swift AJ,\n",
      "            Tuomi T, Uda M, Vollenweider P, Waeber G, Wallace C, Walters GB,\n",
      "            Weedon MN, Witteman JC, Zhang C, Zhang W, Caulfield MJ, Collins FS,\n",
      "            Davey Smith G, Day IN, Franks PW, Hattersley AT, Hu FB, Jarvelin\n",
      "            MR, Kong A, Kooner JS, Laakso M, Lakatta E, Mooser V, Morris AD,\n",
      "            Peltonen L, Samani NJ, Spector TD, Strachan DP, Tanaka T,\n",
      "            Tuomilehto J, Uitterlinden AG, van Duijn CM, Wareham NJ, Hugh\n",
      "            Watkins, Waterworth DM, Boehnke M, Deloukas P, Groop L, Hunter DJ,\n",
      "            Thorsteinsdottir U, Schlessinger D, Wichmann HE, Frayling TM,\n",
      "            Abecasis GR, Hirschhorn JN, Loos RJ, Stefansson K, Mohlke KL,\n",
      "            Barroso I and McCarthy MI.\n",
      "  CONSRTM   Wellcome Trust Case Control Consortium; Procardis Consortia; Giant\n",
      "            Consortium\n",
      "  TITLE     Genome-wide association scan meta-analysis identifies three Loci\n",
      "            influencing adiposity and fat distribution\n",
      "  JOURNAL   PLoS Genet 5 (6), e1000508 (2009)\n",
      "   PUBMED   19557161\n",
      "  REMARK    GeneRIF: TFAP2B, LYPLAL1 and MSRA are associated with adiposity and\n",
      "            fat distribution.\n",
      "            GeneRIF: Observational study, meta-analysis, and genome-wide\n",
      "            association study of gene-disease association. (HuGE Navigator)\n",
      "            Erratum:[PLoS Genet. 2009 Jul;5(7). doi:\n",
      "            10.1371/annotation/b6e8f9f6-2496-4a40-b0e3-e1d1390c1928]\n",
      "REFERENCE   10 (bases 1 to 1884)\n",
      "  AUTHORS   David D, Cardoso J, Marques B, Marques R, Silva ED, Santos H and\n",
      "            Boavida MG.\n",
      "  TITLE     Molecular characterization of a familial translocation implicates\n",
      "            disruption of HDAC9 and possible position effect on TGFbeta2 in the\n",
      "            pathogenesis of Peters' anomaly\n",
      "  JOURNAL   Genomics 81 (5), 489-503 (2003)\n",
      "   PUBMED   12706107\n",
      "COMMENT     VALIDATED REFSEQ: This record has undergone validation or\n",
      "            preliminary review. The reference sequence was derived from\n",
      "            HY106571.1, BC016711.1, BI830985.1, AL360093.11, AA424278.1 and\n",
      "            BF115063.1.\n",
      "            \n",
      "            On Aug 14, 2020 this sequence version replaced NM_001350628.1.\n",
      "            \n",
      "            Transcript Variant: This variant (6) contains an alternate in-frame\n",
      "            exon in the 5' coding region, compared to variant 1. The encoded\n",
      "            isoform (e) is longer than isoform a.\n",
      "            \n",
      "            Publication Note:  This RefSeq record includes a subset of the\n",
      "            publications that are available for this gene. Please see the Gene\n",
      "            record to access additional publications.\n",
      "            \n",
      "            ##Evidence-Data-START##\n",
      "            Transcript exon combination :: SRR1803611.84269.1,\n",
      "                                           SRR1660805.16950.1 [ECO:0000332]\n",
      "            RNAseq introns              :: single sample supports all introns\n",
      "                                           SAMEA1968540, SAMEA2142680\n",
      "                                           [ECO:0000348]\n",
      "            ##Evidence-Data-END##\n",
      "            COMPLETENESS: complete on the 3' end.\n",
      "PRIMARY     REFSEQ_SPAN         PRIMARY_IDENTIFIER PRIMARY_SPAN        COMP\n",
      "            1-3                 HY106571.1         49-51\n",
      "            4-77                BC016711.1         5-78\n",
      "            78-225              BI830985.1         61-208\n",
      "            226-226             AL360093.11        79685-79685\n",
      "            227-432             BI830985.1         209-414\n",
      "            433-433             AA424278.1         423-423\n",
      "            434-843             BC016711.1         408-817\n",
      "            844-1824            AL360093.11        112082-113062\n",
      "            1825-1884           BF115063.1         19-78               c\n",
      "FEATURES             Location/Qualifiers\n",
      "     source          1..1884\n",
      "                     /organism=\"Homo sapiens\"\n",
      "                     /mol_type=\"mRNA\"\n",
      "                     /db_xref=\"taxon:9606\"\n",
      "                     /chromosome=\"1\"\n",
      "                     /map=\"1q41\"\n",
      "     gene            1..1884\n",
      "                     /gene=\"LYPLAL1\"\n",
      "                     /gene_synonym=\"Q96AV0\"\n",
      "                     /note=\"lysophospholipase like 1\"\n",
      "                     /db_xref=\"GeneID:127018\"\n",
      "                     /db_xref=\"HGNC:HGNC:20440\"\n",
      "                     /db_xref=\"MIM:616548\"\n",
      "     exon            1..104\n",
      "                     /gene=\"LYPLAL1\"\n",
      "                     /gene_synonym=\"Q96AV0\"\n",
      "                     /inference=\"alignment:Splign:2.1.0\"\n",
      "     CDS             14..754\n",
      "                     /gene=\"LYPLAL1\"\n",
      "                     /gene_synonym=\"Q96AV0\"\n",
      "                     /EC_number=\"3.1.2.22\"\n",
      "                     /note=\"isoform e is encoded by transcript variant 6;\n",
      "                     lysophospholipase-like protein 1\"\n",
      "                     /codon_start=1\n",
      "                     /product=\"lysophospholipase-like protein 1 isoform e\"\n",
      "                     /protein_id=\"NP_001337557.1\"\n",
      "                     /db_xref=\"GeneID:127018\"\n",
      "                     /db_xref=\"HGNC:HGNC:20440\"\n",
      "                     /db_xref=\"MIM:616548\"\n",
      "                     /translation=\"MAAASGSVLQRCIVSPAGRHSASLIFLHGSGDSGQGLRMWIKQV\n",
      "                     LNQDLTFQHIKIIYPTAPPSYTVGPSFARSYTPMKGGISNVWFDRFKITNDCPEHLES\n",
      "                     IDVMCQVLTDLIDEEVKSGIKKNRILIGGFSMGGCMAIHLAYRNHQDVAGVFALSSFL\n",
      "                     NKASAVYQALQKSNGVLPELFQCHGTADELVLHSWAEETNSMLKSLGVTTKFHSFPNV\n",
      "                     YHELSKTELDILKLWILTKLPGEMEKQK\"\n",
      "     exon            105..204\n",
      "                     /gene=\"LYPLAL1\"\n",
      "                     /gene_synonym=\"Q96AV0\"\n",
      "                     /inference=\"alignment:Splign:2.1.0\"\n",
      "     exon            205..231\n",
      "                     /gene=\"LYPLAL1\"\n",
      "                     /gene_synonym=\"Q96AV0\"\n",
      "                     /inference=\"alignment:Splign:2.1.0\"\n",
      "     exon            232..401\n",
      "                     /gene=\"LYPLAL1\"\n",
      "                     /gene_synonym=\"Q96AV0\"\n",
      "                     /inference=\"alignment:Splign:2.1.0\"\n",
      "     exon            402..517\n",
      "                     /gene=\"LYPLAL1\"\n",
      "                     /gene_synonym=\"Q96AV0\"\n",
      "                     /inference=\"alignment:Splign:2.1.0\"\n",
      "     exon            518..1884\n",
      "                     /gene=\"LYPLAL1\"\n",
      "                     /gene_synonym=\"Q96AV0\"\n",
      "                     /inference=\"alignment:Splign:2.1.0\"\n",
      "     regulatory      832..837\n",
      "                     /regulatory_class=\"polyA_signal_sequence\"\n",
      "                     /gene=\"LYPLAL1\"\n",
      "                     /gene_synonym=\"Q96AV0\"\n",
      "                     /note=\"hexamer: ATTAAA\"\n",
      "     polyA_site      853\n",
      "                     /gene=\"LYPLAL1\"\n",
      "                     /gene_synonym=\"Q96AV0\"\n",
      "                     /note=\"major polyA site\"\n",
      "     regulatory      1862..1867\n",
      "                     /regulatory_class=\"polyA_signal_sequence\"\n",
      "                     /gene=\"LYPLAL1\"\n",
      "                     /gene_synonym=\"Q96AV0\"\n",
      "                     /note=\"hexamer: AATAAA\"\n",
      "     polyA_site      1884\n",
      "                     /gene=\"LYPLAL1\"\n",
      "                     /gene_synonym=\"Q96AV0\"\n",
      "ORIGIN      \n",
      "        1 agtggcatca gcgatggcgg ctgcgtcggg gtcggttctg cagcgctgta tcgtgtcgcc\n",
      "       61 ggcagggagg catagcgcct ctctgatctt cctgcatggc tcaggtgatt ctggacaagg\n",
      "      121 attaagaatg tggatcaagc aggttttaaa tcaagattta acattccaac acataaaaat\n",
      "      181 tatttatcca acagctcctc ccagttacac tgttggacca agttttgcca gatcatatac\n",
      "      241 tcctatgaaa ggaggaatct ccaatgtatg gtttgacaga tttaaaataa ccaatgactg\n",
      "      301 cccagaacac cttgaatcaa ttgatgtcat gtgtcaagtg cttactgatt tgattgatga\n",
      "      361 agaagtaaaa agtggcatca agaagaacag gatattaata ggaggattct ctatgggagg\n",
      "      421 atgcatggca atacatttag catatagaaa tcatcaagat gtggcaggag tatttgctct\n",
      "      481 ttctagtttt ctgaataaag catctgctgt ttaccaggct cttcagaaga gtaatggtgt\n",
      "      541 acttcctgaa ttatttcagt gtcatggtac tgcagatgag ttagttcttc attcttgggc\n",
      "      601 agaagagaca aactcaatgt taaaatctct aggagtgacc acgaagtttc atagttttcc\n",
      "      661 aaatgtttac catgagctaa gcaaaactga gttagacata ttgaagttat ggattcttac\n",
      "      721 aaagctgcca ggagaaatgg aaaaacaaaa atgaatgaat caagagtgat ttgttaatgt\n",
      "      781 aagtgtaatg tctttgtgaa aagtgatttt tactgccaaa ttataatgat aattaaaata\n",
      "      841 ttaagaaata acactttcct gactttttta ttattaaaat gcttatcact gtagacagta\n",
      "      901 gctaatctta ttaatgaaaa acaatagaca aacatctgtg cataattttt cagacacaat\n",
      "      961 tctgtaaata tttggaaacc ttttaagtat ttaaactttt aaatttttga aataaagtat\n",
      "     1021 tctaaactaa tataaataag gacaatgaaa aaacatgaaa ggacttagca taatgttatt\n",
      "     1081 ttatcttttc tacaactttg tttaaattac ctttccaaag atatttgtgt ttatgtaatt\n",
      "     1141 ttccacggaa taacattaat actctaggtt tataaaccgg tttcacatta tttcatttga\n",
      "     1201 tcatcacaag agctttgtga agtaagccga gaagttgtta ctggtattta ataatagcaa\n",
      "     1261 tagaggagtt aaagactttc ccacagcttg caggtcaaga caagaaattc aggtctccta\n",
      "     1321 attctcagtg gagctctatt tctgttaacc caaattgctg ctctgtttta ggtctcaatt\n",
      "     1381 tcatctgtaa aatgatacta atagtactta tcccattgga tttttgttga gatttaaata\n",
      "     1441 aatagccaaa agccaataca taataaacac tcaataaaga ttaaccataa ggagagtcat\n",
      "     1501 gatctggttc caggaataca ttgttagatg actgaaaaat tgtattactt caatgaaaat\n",
      "     1561 actataaata ataacatttt catatattag ttggttctca tgcatacata atctaatttt\n",
      "     1621 atttgatcct cacaactgtt taagttttat taaatataca ttatccctat ttgtataaat\n",
      "     1681 agaatcatac aatacctgcc tgctttcatt caacaaaatt atcatgagat ttttccatgt\n",
      "     1741 tgtgtacatc aatagttcat ctattttatt gctcagtaat attccattgt gtggatgtat\n",
      "     1801 cactatttgt ttacacattc accactgata tataagttgc ttccagtgtg aggctgtttt\n",
      "     1861 aaataaagct gctatgaata ttca\n",
      "//\n",
      "\n",
      "\n"
     ]
    }
   ],
   "source": [
    "Entrez.email=\"pg50589@alunos.uminho.pt\"\n",
    "handle=Entrez.efetch(db=\"nucleotide\", id=\"NM_001350628.2\", rettype=\"gb\", retmode=\"text\")\n",
    "text=handle.read()\n",
    "print(text)"
   ]
  },
  {
   "cell_type": "markdown",
   "id": "7cf85e34",
   "metadata": {},
   "source": [
    "4. De seguida, recorreu-se ao módulo Bio.Entrez e ao módulo Bio.SeqIO, para analisar os diversos dados e informações que compõem o ficheiro GenBank da sequência nucleótidica em estudo. O módulo Bio.SeqIO permite ler as sequências de um arquivo, bem como escrever sequências para um arquivo. Deste modo, este módulo foi utilizado para se obter as informações do ficheiro que permitem a identificação da sequência de nucleótidos utilizada, tais como o comprimento da sequência nucleótica, o ID do seu registo, o nome do registo da sequência na base de dados utilizada, bem como a sua descrição, ou seja, o nome da sequência."
   ]
  },
  {
   "cell_type": "code",
   "execution_count": 34,
   "id": "4007b712",
   "metadata": {},
   "outputs": [
    {
     "data": {
      "text/plain": [
       "<function TextIOWrapper.close()>"
      ]
     },
     "execution_count": 34,
     "metadata": {},
     "output_type": "execute_result"
    }
   ],
   "source": [
    "Entrez.email=\"pg50589@alunos.uminho.pt\"\n",
    "handle=Entrez.efetch(db=\"nucleotide\", id=\"NM_001350628.2\", rettype=\"gb\", retmode=\"text\")\n",
    "record=SeqIO.read(handle,\"genbank\")\n",
    "handle.close"
   ]
  },
  {
   "cell_type": "code",
   "execution_count": 35,
   "id": "4e059a2b",
   "metadata": {},
   "outputs": [
    {
     "name": "stdout",
     "output_type": "stream",
     "text": [
      "Tamanho da sequência de DNA do gene: 1884\n",
      "ID de registo: NM_001350628.2\n",
      "Descrição do registo: Homo sapiens lysophospholipase like 1 (LYPLAL1), transcript variant 6, mRNA\n",
      "Nome do registo: NM_001350628\n"
     ]
    }
   ],
   "source": [
    "#tamanho da sequência de DNA do gene LYPLAL1\n",
    "\n",
    "print(\"Tamanho da sequência de DNA do gene:\", len(record.seq))\n",
    "\n",
    "#ID de registo do gene LYPLAL1\n",
    "\n",
    "print(\"ID de registo:\", record.id)\n",
    "\n",
    "#descrição do registo do gene LYPLAL1\n",
    "\n",
    "print(\"Descrição do registo:\", record.description)\n",
    "\n",
    "#nome do resgisto do gene LYPLAL1\n",
    "\n",
    "print(\"Nome do registo:\", record.name)"
   ]
  },
  {
   "cell_type": "markdown",
   "id": "ad4f772a",
   "metadata": {},
   "source": [
    "5. As anotações relativas ao ficheiro GenBank de uma sequência nucleótica são um dicionário que contém informações adicionais sobre a sequência em análise. Primeiramente, obteve-se as anotações associadas ao ficheiro GenBank (record.annotations). Para visualizar mais facilmente as chaves do dicionário que forma as anotações implementou-se o comando record.annotations.keys(). É possivel então obter anotações relativas ao gene em estudo, como o organismo ao qual pertence, a taxonomia, o tipo de gene, entre outros."
   ]
  },
  {
   "cell_type": "code",
   "execution_count": 36,
   "id": "019e1169",
   "metadata": {},
   "outputs": [
    {
     "data": {
      "text/plain": [
       "{'molecule_type': 'mRNA',\n",
       " 'topology': 'linear',\n",
       " 'data_file_division': 'PRI',\n",
       " 'date': '31-DEC-2022',\n",
       " 'accessions': ['NM_001350628', 'XM_011509182'],\n",
       " 'sequence_version': 2,\n",
       " 'keywords': ['RefSeq'],\n",
       " 'source': 'Homo sapiens (human)',\n",
       " 'organism': 'Homo sapiens',\n",
       " 'taxonomy': ['Eukaryota',\n",
       "  'Metazoa',\n",
       "  'Chordata',\n",
       "  'Craniata',\n",
       "  'Vertebrata',\n",
       "  'Euteleostomi',\n",
       "  'Mammalia',\n",
       "  'Eutheria',\n",
       "  'Euarchontoglires',\n",
       "  'Primates',\n",
       "  'Haplorrhini',\n",
       "  'Catarrhini',\n",
       "  'Hominidae',\n",
       "  'Homo'],\n",
       " 'references': [Reference(title='A reference map of the human binary protein interactome', ...),\n",
       "  Reference(title='NAFLD risk alleles in PNPLA3, TM6SF2, GCKR and LYPLAL1 show divergent metabolic effects', ...),\n",
       "  Reference(title='Two obesity susceptibility loci in LYPLAL1 and ETV5 independently associated with childhood hypertension in Chinese population', ...),\n",
       "  Reference(title='Association between PNPLA3 (rs738409), LYPLAL1 (rs12137855), PPP1R3B (rs4240624), GCKR (rs780094), and elevated transaminase levels in overweight/obese Mexican adults', ...),\n",
       "  Reference(title='A genetic variant in proximity to the gene LYPLAL1 is associated with lower hunger feelings and increased weight loss following Roux-en-Y gastric bypass surgery', ...),\n",
       "  Reference(title='Crystal structure of the predicted phospholipase LYPLAL1 reveals unexpected functional plasticity despite close relationship to acyl protein thioesterases', ...),\n",
       "  Reference(title='Implications of central obesity-related variants in LYPLAL1, NRXN3, MSRA, and TFAP2B on quantitative metabolic traits in adult Danes', ...),\n",
       "  Reference(title='Polymorphisms in NRXN3, TFAP2B, MSRA, LYPLAL1, FTO and MC4R and their effect on visceral fat area in the Japanese population', ...),\n",
       "  Reference(title='Genome-wide association scan meta-analysis identifies three Loci influencing adiposity and fat distribution', ...),\n",
       "  Reference(title=\"Molecular characterization of a familial translocation implicates disruption of HDAC9 and possible position effect on TGFbeta2 in the pathogenesis of Peters' anomaly\", ...)],\n",
       " 'comment': \"VALIDATED REFSEQ: This record has undergone validation or\\npreliminary review. The reference sequence was derived from\\nHY106571.1, BC016711.1, BI830985.1, AL360093.11, AA424278.1 and\\nBF115063.1.\\nOn Aug 14, 2020 this sequence version replaced NM_001350628.1.\\nTranscript Variant: This variant (6) contains an alternate in-frame\\nexon in the 5' coding region, compared to variant 1. The encoded\\nisoform (e) is longer than isoform a.\\nPublication Note:  This RefSeq record includes a subset of the\\npublications that are available for this gene. Please see the Gene\\nrecord to access additional publications.\\nCOMPLETENESS: complete on the 3' end.\",\n",
       " 'structured_comment': OrderedDict([('Evidence-Data',\n",
       "               OrderedDict([('Transcript exon combination',\n",
       "                             'SRR1803611.84269.1, SRR1660805.16950.1 [ECO:0000332]'),\n",
       "                            ('RNAseq introns',\n",
       "                             'single sample supports all introns SAMEA1968540, SAMEA2142680 [ECO:0000348]')]))])}"
      ]
     },
     "execution_count": 36,
     "metadata": {},
     "output_type": "execute_result"
    }
   ],
   "source": [
    "#ANOTAÇÕES\n",
    "\n",
    "#lista de anotações globais para o registo do gene LYPLAL1\n",
    "\n",
    "record.annotations"
   ]
  },
  {
   "cell_type": "code",
   "execution_count": 37,
   "id": "421437f4",
   "metadata": {},
   "outputs": [
    {
     "data": {
      "text/plain": [
       "['molecule_type',\n",
       " 'topology',\n",
       " 'data_file_division',\n",
       " 'date',\n",
       " 'accessions',\n",
       " 'sequence_version',\n",
       " 'keywords',\n",
       " 'source',\n",
       " 'organism',\n",
       " 'taxonomy',\n",
       " 'references',\n",
       " 'comment',\n",
       " 'structured_comment']"
      ]
     },
     "execution_count": 37,
     "metadata": {},
     "output_type": "execute_result"
    }
   ],
   "source": [
    "#anotações associadas ao registo do gene LYPLAL1\n",
    "#chaves do dicionário que forma as anotações\n",
    "\n",
    "list(record.annotations.keys())"
   ]
  },
  {
   "cell_type": "code",
   "execution_count": 38,
   "id": "20704b37",
   "metadata": {},
   "outputs": [
    {
     "data": {
      "text/plain": [
       "'mRNA'"
      ]
     },
     "execution_count": 38,
     "metadata": {},
     "output_type": "execute_result"
    }
   ],
   "source": [
    "#tipo de molécula\n",
    "\n",
    "record.annotations[\"molecule_type\"]"
   ]
  },
  {
   "cell_type": "code",
   "execution_count": 39,
   "id": "eb7d85b1",
   "metadata": {},
   "outputs": [
    {
     "data": {
      "text/plain": [
       "'linear'"
      ]
     },
     "execution_count": 39,
     "metadata": {},
     "output_type": "execute_result"
    }
   ],
   "source": [
    "#topologia\n",
    "\n",
    "record.annotations[\"topology\"]"
   ]
  },
  {
   "cell_type": "code",
   "execution_count": 40,
   "id": "dbb375ab",
   "metadata": {},
   "outputs": [
    {
     "data": {
      "text/plain": [
       "'PRI'"
      ]
     },
     "execution_count": 40,
     "metadata": {},
     "output_type": "execute_result"
    }
   ],
   "source": [
    "#data_file_division\n",
    "\n",
    "record.annotations[\"data_file_division\"]"
   ]
  },
  {
   "cell_type": "code",
   "execution_count": 41,
   "id": "23d65f18",
   "metadata": {
    "scrolled": true
   },
   "outputs": [
    {
     "data": {
      "text/plain": [
       "['NM_001350628', 'XM_011509182']"
      ]
     },
     "execution_count": 41,
     "metadata": {},
     "output_type": "execute_result"
    }
   ],
   "source": [
    "#accessions\n",
    "\n",
    "record.annotations[\"accessions\"]"
   ]
  },
  {
   "cell_type": "code",
   "execution_count": 42,
   "id": "8fecec05",
   "metadata": {},
   "outputs": [
    {
     "data": {
      "text/plain": [
       "2"
      ]
     },
     "execution_count": 42,
     "metadata": {},
     "output_type": "execute_result"
    }
   ],
   "source": [
    "#sequence_version\n",
    "\n",
    "record.annotations[\"sequence_version\"]"
   ]
  },
  {
   "cell_type": "code",
   "execution_count": 43,
   "id": "bea3e31c",
   "metadata": {},
   "outputs": [
    {
     "data": {
      "text/plain": [
       "['RefSeq']"
      ]
     },
     "execution_count": 43,
     "metadata": {},
     "output_type": "execute_result"
    }
   ],
   "source": [
    "#Keywords\n",
    "\n",
    "record.annotations[\"keywords\"]"
   ]
  },
  {
   "cell_type": "code",
   "execution_count": 44,
   "id": "e3d998af",
   "metadata": {},
   "outputs": [
    {
     "data": {
      "text/plain": [
       "'Homo sapiens (human)'"
      ]
     },
     "execution_count": 44,
     "metadata": {},
     "output_type": "execute_result"
    }
   ],
   "source": [
    "#source\n",
    "\n",
    "record.annotations[\"source\"]"
   ]
  },
  {
   "cell_type": "code",
   "execution_count": 45,
   "id": "80568e00",
   "metadata": {},
   "outputs": [
    {
     "data": {
      "text/plain": [
       "'Homo sapiens'"
      ]
     },
     "execution_count": 45,
     "metadata": {},
     "output_type": "execute_result"
    }
   ],
   "source": [
    "#organismo\n",
    "\n",
    "record.annotations[\"organism\"]"
   ]
  },
  {
   "cell_type": "code",
   "execution_count": 46,
   "id": "72e9e635",
   "metadata": {},
   "outputs": [
    {
     "data": {
      "text/plain": [
       "['Eukaryota',\n",
       " 'Metazoa',\n",
       " 'Chordata',\n",
       " 'Craniata',\n",
       " 'Vertebrata',\n",
       " 'Euteleostomi',\n",
       " 'Mammalia',\n",
       " 'Eutheria',\n",
       " 'Euarchontoglires',\n",
       " 'Primates',\n",
       " 'Haplorrhini',\n",
       " 'Catarrhini',\n",
       " 'Hominidae',\n",
       " 'Homo']"
      ]
     },
     "execution_count": 46,
     "metadata": {},
     "output_type": "execute_result"
    }
   ],
   "source": [
    "#taxonomia\n",
    "\n",
    "record.annotations[\"taxonomy\"]"
   ]
  },
  {
   "cell_type": "markdown",
   "id": "faab234c",
   "metadata": {},
   "source": [
    "6. O ficheiro em formato GenBank fornece também as features de uma sequência nucleótidica. Assim, o código abaixo implementado permite obter a lista de features do ficheiro, a quantidade de features existentes, e ainda o seu tipo e a localização de cada uma delas. Para se conseguir obter estas informações foi necessário recorrer ao módulo Bio.SeqFeature, bem como aos módulos Bio.SeqIO e Bio.Entrez."
   ]
  },
  {
   "cell_type": "code",
   "execution_count": 47,
   "id": "a21ff8ab",
   "metadata": {},
   "outputs": [
    {
     "data": {
      "text/plain": [
       "list"
      ]
     },
     "execution_count": 47,
     "metadata": {},
     "output_type": "execute_result"
    }
   ],
   "source": [
    "#FEATURES\n",
    "\n",
    "#tipo de features do registo do gene LYPLAL1\n",
    "\n",
    "type(record.features)"
   ]
  },
  {
   "cell_type": "code",
   "execution_count": 48,
   "id": "12f32938",
   "metadata": {},
   "outputs": [
    {
     "name": "stdout",
     "output_type": "stream",
     "text": [
      "Existem 13 features no registo do gene LYPLAL1\n"
     ]
    }
   ],
   "source": [
    "#quantidade de features no registo de LYPLAL1\n",
    "\n",
    "print(\"Existem\", len(record.features), \"features no registo do gene LYPLAL1\")"
   ]
  },
  {
   "cell_type": "code",
   "execution_count": 49,
   "id": "74935d07",
   "metadata": {},
   "outputs": [
    {
     "data": {
      "text/plain": [
       "[SeqFeature(FeatureLocation(ExactPosition(0), ExactPosition(1884), strand=1), type='source'),\n",
       " SeqFeature(FeatureLocation(ExactPosition(0), ExactPosition(1884), strand=1), type='gene'),\n",
       " SeqFeature(FeatureLocation(ExactPosition(0), ExactPosition(104), strand=1), type='exon'),\n",
       " SeqFeature(FeatureLocation(ExactPosition(13), ExactPosition(754), strand=1), type='CDS'),\n",
       " SeqFeature(FeatureLocation(ExactPosition(104), ExactPosition(204), strand=1), type='exon'),\n",
       " SeqFeature(FeatureLocation(ExactPosition(204), ExactPosition(231), strand=1), type='exon'),\n",
       " SeqFeature(FeatureLocation(ExactPosition(231), ExactPosition(401), strand=1), type='exon'),\n",
       " SeqFeature(FeatureLocation(ExactPosition(401), ExactPosition(517), strand=1), type='exon'),\n",
       " SeqFeature(FeatureLocation(ExactPosition(517), ExactPosition(1884), strand=1), type='exon'),\n",
       " SeqFeature(FeatureLocation(ExactPosition(831), ExactPosition(837), strand=1), type='regulatory'),\n",
       " SeqFeature(FeatureLocation(ExactPosition(852), ExactPosition(853), strand=1), type='polyA_site'),\n",
       " SeqFeature(FeatureLocation(ExactPosition(1861), ExactPosition(1867), strand=1), type='regulatory'),\n",
       " SeqFeature(FeatureLocation(ExactPosition(1883), ExactPosition(1884), strand=1), type='polyA_site')]"
      ]
     },
     "execution_count": 49,
     "metadata": {},
     "output_type": "execute_result"
    }
   ],
   "source": [
    "#lista de features do registo de LYPLAL1\n",
    "\n",
    "record.features"
   ]
  },
  {
   "cell_type": "code",
   "execution_count": 50,
   "id": "2f3f73ce",
   "metadata": {},
   "outputs": [
    {
     "name": "stdout",
     "output_type": "stream",
     "text": [
      "source\n",
      "[0:1884](+)\n",
      "gene\n",
      "[0:1884](+)\n",
      "exon\n",
      "[0:104](+)\n",
      "CDS\n",
      "[13:754](+)\n",
      "exon\n",
      "[104:204](+)\n",
      "exon\n",
      "[204:231](+)\n",
      "exon\n",
      "[231:401](+)\n",
      "exon\n",
      "[401:517](+)\n",
      "exon\n",
      "[517:1884](+)\n",
      "regulatory\n",
      "[831:837](+)\n",
      "polyA_site\n",
      "[852:853](+)\n",
      "regulatory\n",
      "[1861:1867](+)\n",
      "polyA_site\n",
      "[1883:1884](+)\n"
     ]
    }
   ],
   "source": [
    "#tipo e localização de cada feature do registo do gene LYPLAL1\n",
    "\n",
    "for f in record.features:\n",
    "    print(f.type)\n",
    "    print(f.location)"
   ]
  },
  {
   "cell_type": "markdown",
   "id": "7dae796e",
   "metadata": {},
   "source": [
    "7. Através da lista de features obtida, verfica-se que o ficheiro GenBank da sequência LYPLAL1 apresenta diferentes tipos de features, como sequências codificantes (CDS), genes, exões entre outros. De modo, a identificar as sequências codificantes associadas ao registo de LYPLAL1 implementou-se o seguinte código, sendo possivel obter a quantidade de sequências codificantes que existem na sequência nucleotídica LYPLAL1, bem como a sua localização. Salienta-se que cada tipo de feature possui \"qualifiers\" associados. Como tal, através do seguinte código é também possível analisar esses \"qualfiers\", determinando-se qual o nome das proteínas codificadas pelas sequências codificantes encontradas, bem como as suas sequências de aminoácidos (tradução da sequência codificante)."
   ]
  },
  {
   "cell_type": "code",
   "execution_count": 51,
   "id": "626a530f",
   "metadata": {},
   "outputs": [
    {
     "name": "stdout",
     "output_type": "stream",
     "text": [
      "nº de features sequências codificantes: 1\n",
      "indice das sequências codificantes: [3]\n",
      " \n",
      "['NP_001337557.1']\n",
      "['lysophospholipase-like protein 1 isoform e']\n",
      "['MAAASGSVLQRCIVSPAGRHSASLIFLHGSGDSGQGLRMWIKQVLNQDLTFQHIKIIYPTAPPSYTVGPSFARSYTPMKGGISNVWFDRFKITNDCPEHLESIDVMCQVLTDLIDEEVKSGIKKNRILIGGFSMGGCMAIHLAYRNHQDVAGVFALSSFLNKASAVYQALQKSNGVLPELFQCHGTADELVLHSWAEETNSMLKSLGVTTKFHSFPNVYHELSKTELDILKLWILTKLPGEMEKQK']\n"
     ]
    }
   ],
   "source": [
    "#sequências codificantes do registo do gene LYPLAL1(csd)\n",
    "\n",
    "features_cds=[]\n",
    "numero_cds=0\n",
    "for i in range(len(record.features)):\n",
    "    if record.features[i].type==\"CDS\":\n",
    "        features_cds.append(i)\n",
    "        numero_cds+=1\n",
    "    #qualifiers associados às sequências codificantes do registo de LYPLAL1\n",
    "    for j in features_cds:\n",
    "        id_proteina=record.features[j].qualifiers[\"protein_id\"]\n",
    "        product=record.features[j].qualifiers[\"product\"]\n",
    "        traducao=record.features[j].qualifiers[\"translation\"]\n",
    "        \n",
    "print(\"nº de features sequências codificantes:\", numero_cds)\n",
    "print(\"indice das sequências codificantes:\", features_cds)\n",
    "print(\" \")\n",
    "print(id_proteina)\n",
    "print(product)\n",
    "print(traducao)"
   ]
  },
  {
   "cell_type": "code",
   "execution_count": 52,
   "id": "3ffeca83",
   "metadata": {},
   "outputs": [
    {
     "data": {
      "text/plain": [
       "OrderedDict([('gene', ['LYPLAL1']), ('gene_synonym', ['Q96AV0'])])"
      ]
     },
     "execution_count": 52,
     "metadata": {},
     "output_type": "execute_result"
    }
   ],
   "source": [
    "#lista dos qualifiers associados às sequências codificantes\n",
    "\n",
    "record.features[i].qualifiers"
   ]
  },
  {
   "cell_type": "markdown",
   "id": "2a098b7a",
   "metadata": {},
   "source": [
    "8. Outro tipo de feature encontrada no registo de LYPLAL1 é a feature do tipo gene. De seguida, implementou-se um código que permite obter o número de genes anotados no registo de LYPLAL1, bem como a sua localização e a sua designação."
   ]
  },
  {
   "cell_type": "code",
   "execution_count": 53,
   "id": "555e3cec",
   "metadata": {},
   "outputs": [
    {
     "name": "stdout",
     "output_type": "stream",
     "text": [
      "número de features do tipo gene: 1\n",
      " \n",
      "1\n",
      "['LYPLAL1']\n"
     ]
    }
   ],
   "source": [
    "#genes anotados no registo LYPLAL1\n",
    "\n",
    "features_gene=[]\n",
    "for g in range(len(record.features)):\n",
    "    if record.features[g].type==\"gene\":\n",
    "        features_gene.append(g)\n",
    "    for q in features_gene:\n",
    "        localizacao=record.features[q].location.strand\n",
    "        gene=record.features[q].qualifiers[\"gene\"]\n",
    "        \n",
    "print(\"número de features do tipo gene:\", len(features_gene))\n",
    "print(\" \")\n",
    "print(localizacao)\n",
    "print(gene)"
   ]
  },
  {
   "cell_type": "code",
   "execution_count": 54,
   "id": "d6066251",
   "metadata": {},
   "outputs": [
    {
     "data": {
      "text/plain": [
       "OrderedDict([('gene', ['LYPLAL1']), ('gene_synonym', ['Q96AV0'])])"
      ]
     },
     "execution_count": 54,
     "metadata": {},
     "output_type": "execute_result"
    }
   ],
   "source": [
    "#qualifiers associados ao feature do tipo gene\n",
    "\n",
    "record.features[g].qualifiers"
   ]
  },
  {
   "cell_type": "markdown",
   "id": "a9acea45",
   "metadata": {},
   "source": [
    "9. Outro tipo de feature encontrada no registo de LYPLAL1 é a feature do tipo exon. De seguida, implementou-se um código que permite obter o número de exões anotados no registo de LYPLAL1, bem como a sua localização na sequência nucleótidca. Realça-se que um exão corresponde a um segmento de uma sequência nucleótidos de um gene eucariótico cujo segmento transcrito sobrevive ao processo de excisão (ou splicing ou processamento)."
   ]
  },
  {
   "cell_type": "code",
   "execution_count": 55,
   "id": "7281c533",
   "metadata": {},
   "outputs": [
    {
     "name": "stdout",
     "output_type": "stream",
     "text": [
      "nº de features do tipo exoes: 6\n",
      "indice dos exões: [2, 4, 5, 6, 7, 8]\n"
     ]
    }
   ],
   "source": [
    "#exões existentes no registo de LYPLAL1\n",
    "\n",
    "features_exoes=[]\n",
    "numero_exoes=0\n",
    "for e in range(len(record.features)):\n",
    "    if record.features[e].type==\"exon\":\n",
    "        features_exoes.append(e)\n",
    "        numero_exoes+=1\n",
    "print(\"nº de features do tipo exoes:\", numero_exoes)\n",
    "print(\"indice dos exões:\", features_exoes)"
   ]
  }
 ],
 "metadata": {
  "kernelspec": {
   "display_name": "Python 3 (ipykernel)",
   "language": "python",
   "name": "python3"
  },
  "language_info": {
   "codemirror_mode": {
    "name": "ipython",
    "version": 3
   },
   "file_extension": ".py",
   "mimetype": "text/x-python",
   "name": "python",
   "nbconvert_exporter": "python",
   "pygments_lexer": "ipython3",
   "version": "3.9.12"
  }
 },
 "nbformat": 4,
 "nbformat_minor": 5
}
