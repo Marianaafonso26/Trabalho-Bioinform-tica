{
 "cells": [
  {
   "cell_type": "markdown",
   "id": "bb6a6fe5",
   "metadata": {},
   "source": [
    "# Alinhamento Múltiplo - Gene LYPLAL1"
   ]
  },
  {
   "cell_type": "markdown",
   "id": "853b2668",
   "metadata": {},
   "source": [
    "1. Carregamento do package e dos módulos necessários"
   ]
  },
  {
   "cell_type": "code",
   "execution_count": 1,
   "id": "09363d62",
   "metadata": {},
   "outputs": [],
   "source": [
    "from Bio.Blast import NCBIXML\n",
    "from Bio.Blast import NCBIWWW\n",
    "from Bio import SeqIO\n",
    "from Bio import Entrez"
   ]
  },
  {
   "cell_type": "markdown",
   "id": "bec30250",
   "metadata": {},
   "source": [
    "2. O seguinte código serve para guardar o ficheiro corresponde à sequência de aminoácidos que é codificada pelo gene LYPLAL1 em formato fasta, de modo a que as sequências homológas obtidas possam servir de input para a construção de árvores filogenéticas. Como tal utiliza-se o módulo Bio.SeqIO que permite a leitura de sequências de um arquivo, bem como escrever sequências para outro arquivo"
   ]
  },
  {
   "cell_type": "code",
   "execution_count": 2,
   "id": "5126c7de",
   "metadata": {},
   "outputs": [],
   "source": [
    "seqrecord=SeqIO.read(open(\"LYPLAL1.fasta\"),format=\"fasta\")"
   ]
  },
  {
   "cell_type": "markdown",
   "id": "21b19ff8",
   "metadata": {},
   "source": [
    "3. De seguida procede-se à pesquisa remota no BLAST, por sequências homólogas similares utilizando-se a base de dados biológicos Uniprot/Swissprot. Para tal, recorreu-se ao módulo Bio.NCBIWWW que permite aceder à versão WWW do blast forncida pelo NCBI."
   ]
  },
  {
   "cell_type": "code",
   "execution_count": 3,
   "id": "6219dc70",
   "metadata": {},
   "outputs": [],
   "source": [
    "result_handle=NCBIWWW.qblast(\"blastp\", \"swissprot\", seqrecord.format(\"fasta\"))"
   ]
  },
  {
   "cell_type": "markdown",
   "id": "9b464023",
   "metadata": {},
   "source": [
    "4. O código abaixo implementado permite guardar os resultados obtidos anteriormente num ficheiro no formato xml para posterior análise. Como tal, foi necessário recorrer ao módulo Bio.NCBIXML."
   ]
  },
  {
   "cell_type": "code",
   "execution_count": 4,
   "id": "241827b2",
   "metadata": {},
   "outputs": [],
   "source": [
    "save_file=open(\"blast-LYPLAL1.xml\", \"w\")\n",
    "save_file.write(result_handle.read())\n",
    "save_file.close()\n",
    "result_handle.close()"
   ]
  },
  {
   "cell_type": "code",
   "execution_count": 5,
   "id": "c0d4dd58",
   "metadata": {},
   "outputs": [],
   "source": [
    "result_handle=open(\"blast-LYPLAL1.xml\")\n",
    "record=NCBIXML.read(result_handle)"
   ]
  },
  {
   "cell_type": "markdown",
   "id": "dfe58eb4",
   "metadata": {},
   "source": [
    "5. De seguida implementou-se um código que permitir retornar os parâmetros globais da pesquisa realizada no BLAST, nomeadamente a base de dados utilizada, a matriz de substituição utilizada no alinhamento, bem como os parâmetros de espaçamentos (gap penalties)."
   ]
  },
  {
   "cell_type": "code",
   "execution_count": 6,
   "id": "c488573b",
   "metadata": {},
   "outputs": [
    {
     "name": "stdout",
     "output_type": "stream",
     "text": [
      "Parâmetros Globais\n",
      " \n",
      "base de dados: swissprot\n",
      "matriz de substituição: BLOSUM62\n",
      "parâmetros de espaçamento: (11, 1)\n"
     ]
    }
   ],
   "source": [
    "print(\"Parâmetros Globais\")\n",
    "print(\" \")\n",
    "print(\"base de dados:\", record.database)\n",
    "print(\"matriz de substituição:\", record.matrix)\n",
    "print(\"parâmetros de espaçamento:\", record.gap_penalties)"
   ]
  },
  {
   "cell_type": "markdown",
   "id": "5432ebc4",
   "metadata": {},
   "source": [
    "6.  Pretendeu-se também obter o número de sequências homólogas (também designaddo por ocorrências) à sequência nucleotídica em análise LYPLAL1, encontradas na pesquisa BLAST, isto é, o número de alinhamentos retornados (número de hits)."
   ]
  },
  {
   "cell_type": "code",
   "execution_count": 7,
   "id": "29427883",
   "metadata": {},
   "outputs": [
    {
     "name": "stdout",
     "output_type": "stream",
     "text": [
      "número de alinhamentos: 50\n"
     ]
    }
   ],
   "source": [
    "nhits=len(record.alignments)\n",
    "print(\"número de alinhamentos:\", nhits)"
   ]
  },
  {
   "cell_type": "markdown",
   "id": "de39d9d7",
   "metadata": {},
   "source": [
    "7. O seguinte código permite identificar a lista de acession numbers, os e-values e os comprimentos dos alinhamentos dos alinhamentos obtidos na pesquisa. Um acession number corresponde ao identificador único que é dado a uma sequência de um polímero biológico (DNA, RNA, proteína), quando as sequências (nucleotídicas ou de aminoácidos) são subtmetidas a um banco de dados. Já o e-value corresponde à probabilidade de alinhamento aleatório, isto é, um cálculo estático baseado na qualidade do alinhamento e o tamanho da base de dados. Ou seja, o e-value é um parâmetro que descreve o número de hits que se pode encontrar ao efetuar a pesquisa num base de dados de determinado tamanho específico. Geralmente, quanto mais próximo de zero foi o e-value, mais significativa é a correspondência dos alinhamentos retornados. No entanto, para alinahmentos mais curtos o e-value pode ser relativamente alto, dado que o cálculo do e-value tem em consideração o tamanho da sequência inicial (query), e como tal sequências mais curtas têm maior probabilidade de ocorrer num banco de dados. Obteve-se também o comprimento  dos alinhamentos retornados e a identificação das sequências homológas."
   ]
  },
  {
   "cell_type": "code",
   "execution_count": 8,
   "id": "559e6311",
   "metadata": {},
   "outputs": [],
   "source": [
    "Entrez.email=\"pg50589@alunos.uminho.pt\""
   ]
  },
  {
   "cell_type": "code",
   "execution_count": 9,
   "id": "8adc3f11",
   "metadata": {},
   "outputs": [
    {
     "name": "stdout",
     "output_type": "stream",
     "text": [
      "E-values e comprimento dos alinhamentos obtidos:\n",
      " \n",
      "Q5VWZ2 -  e-value:5.7891e-177 -  length:246\n",
      "sequência:sp|Q5VWZ2.3| RecName: Full=Lysophospholipase-like protein 1 [Homo sapiens]\n",
      "Q5R8C2 -  e-value:3.47644e-173 -  length:246\n",
      "sequência:sp|Q5R8C2.3| RecName: Full=Lysophospholipase-like protein 1 [Pongo abelii]\n",
      "Q3UFF7 -  e-value:8.26396e-133 -  length:246\n",
      "sequência:sp|Q3UFF7.3| RecName: Full=Lysophospholipase-like protein 1 [Mus musculus]\n",
      "O95372 -  e-value:9.77899e-26 -  length:231\n",
      "sequência:sp|O95372.1| RecName: Full=Acyl-protein thioesterase 2; Short=APT-2; AltName: Full=Lysophospholipase II; Short=LPL-II; Short=LysoPLA II; AltName: Full=Palmitoyl-protein hydrolase [Homo sapiens]\n",
      "Q6BSS8 -  e-value:3.4245e-25 -  length:223\n",
      "sequência:sp|Q6BSS8.2| RecName: Full=Acyl-protein thioesterase 1; AltName: Full=Palmitoyl-protein hydrolase [Debaryomyces hansenii CBS767]\n",
      "O75608 -  e-value:3.87695e-25 -  length:229\n",
      "sequência:sp|O75608.1| RecName: Full=Acyl-protein thioesterase 1; Short=APT-1; Short=hAPT1; AltName: Full=Lysophospholipase 1; AltName: Full=Lysophospholipase I; Short=LPL-I; Short=LysoPLA I; AltName: Full=Palmitoyl-protein hydrolase [Homo sapiens]\n",
      "P70470 -  e-value:4.00122e-25 -  length:229\n",
      "sequência:sp|P70470.1| RecName: Full=Acyl-protein thioesterase 1; Short=APT-1; AltName: Full=Lysophospholipase 1; AltName: Full=Lysophospholipase I; Short=LPL-I; Short=LysoPLA I; AltName: Full=Palmitoyl-protein hydrolase [Rattus norvegicus]\n",
      "Q5RBR7 -  e-value:4.08628e-25 -  length:229\n",
      "sequência:sp|Q5RBR7.1| RecName: Full=Acyl-protein thioesterase 1; Short=APT-1; AltName: Full=Lysophospholipase 1; AltName: Full=Lysophospholipase I; Short=LPL-I; Short=LysoPLA I; AltName: Full=Palmitoyl-protein hydrolase [Pongo abelii]\n",
      "O77821 -  e-value:5.66099e-25 -  length:229\n",
      "sequência:sp|O77821.1| RecName: Full=Acyl-protein thioesterase 1; Short=APT-1; AltName: Full=Calcium-independent phospholipase A2; Short=CaIPLA2; AltName: Full=Lysophospholipase 1; AltName: Full=Lysophospholipase I; Short=LPL-I; Short=LysoPLA I; AltName: Full=Palmitoyl-protein hydrolase [Oryctolagus cuniculus] >sp|P97823.1| RecName: Full=Acyl-protein thioesterase 1; Short=APT-1; AltName: Full=Lysophospholipase 1; AltName: Full=Lysophospholipase I; Short=LPL-I; Short=LysoPLA I; AltName: Full=Palmitoyl-protein hydrolase [Mus musculus]\n",
      "Q9WTL7 -  e-value:1.67208e-24 -  length:231\n",
      "sequência:sp|Q9WTL7.1| RecName: Full=Acyl-protein thioesterase 2; Short=APT-2; AltName: Full=Lysophospholipase 2; AltName: Full=Lysophospholipase II; Short=LPL-II; Short=LysoPLA II; Short=mLyso II; AltName: Full=Palmitoyl-protein hydrolase [Mus musculus]\n",
      "Q3MHR0 -  e-value:1.7794e-24 -  length:229\n",
      "sequência:sp|Q3MHR0.1| RecName: Full=Acyl-protein thioesterase 1; Short=APT-1; AltName: Full=Lysophospholipase 1; AltName: Full=Lysophospholipase I; Short=LPL-I; Short=LysoPLA I; AltName: Full=Palmitoyl-protein hydrolase [Bos taurus]\n",
      "Q9QYL8 -  e-value:2.01988e-24 -  length:231\n",
      "sequência:sp|Q9QYL8.1| RecName: Full=Acyl-protein thioesterase 2; Short=APT-2; AltName: Full=Lysophospholipase 2; AltName: Full=Lysophospholipase II; Short=LPL-II; Short=LysoPLA II; AltName: Full=Palmitoyl-protein hydrolase [Rattus norvegicus]\n",
      "Q9HFJ5 -  e-value:2.47412e-24 -  length:242\n",
      "sequência:sp|Q9HFJ5.2| RecName: Full=Acyl-protein thioesterase 1; AltName: Full=Palmitoyl-protein hydrolase [Neurospora crassa OR74A]\n",
      "Q4PID3 -  e-value:8.83298e-22 -  length:247\n",
      "sequência:sp|Q4PID3.1| RecName: Full=Acyl-protein thioesterase 1; AltName: Full=Palmitoyl-protein hydrolase [Ustilago maydis 521]\n",
      "P0CL94 -  e-value:1.68677e-21 -  length:246\n",
      "sequência:sp|P0CL94.1| RecName: Full=Acyl-protein thioesterase 1; AltName: Full=Palmitoyl-protein hydrolase [Cryptococcus neoformans var. neoformans JEC21] >sp|P0CL95.1| RecName: Full=Acyl-protein thioesterase 1; AltName: Full=Palmitoyl-protein hydrolase [Cryptococcus neoformans var. neoformans B-3501A]\n",
      "Q5ASI2 -  e-value:9.24485e-21 -  length:241\n",
      "sequência:sp|Q5ASI2.1| RecName: Full=Acyl-protein thioesterase 1; AltName: Full=Palmitoyl-protein hydrolase [Aspergillus nidulans FGSC A4]\n",
      "Q5AGD1 -  e-value:1.44481e-20 -  length:219\n",
      "sequência:sp|Q5AGD1.2| RecName: Full=Acyl-protein thioesterase 1; AltName: Full=Palmitoyl-protein hydrolase [Candida albicans SC5314]\n",
      "Q54T49 -  e-value:8.65121e-20 -  length:237\n",
      "sequência:sp|Q54T49.1| RecName: Full=Acyl-protein thioesterase 1 homolog 1; AltName: Full=Palmitoyl-protein hydrolase [Dictyostelium discoideum]\n",
      "Q55FK4 -  e-value:1.13757e-19 -  length:221\n",
      "sequência:sp|Q55FK4.1| RecName: Full=Acyl-protein thioesterase 1 homolog 2; AltName: Full=Palmitoyl-protein hydrolase [Dictyostelium discoideum]\n",
      "O42881 -  e-value:4.05675e-19 -  length:183\n",
      "sequência:sp|O42881.1| RecName: Full=Acyl-protein thioesterase 1; AltName: Full=Palmitoyl-protein hydrolase [Schizosaccharomyces pombe 972h-]\n",
      "Q4WCX7 -  e-value:1.74204e-18 -  length:247\n",
      "sequência:sp|Q4WCX7.1| RecName: Full=Acyl-protein thioesterase 1; AltName: Full=Palmitoyl-protein hydrolase [Aspergillus fumigatus Af293]\n",
      "Q53547 -  e-value:9.84187e-18 -  length:227\n",
      "sequência:sp|Q53547.1| RecName: Full=Carboxylesterase 2; AltName: Full=Esterase II [Pseudomonas fluorescens]\n",
      "Q0J969 -  e-value:4.75939e-17 -  length:230\n",
      "sequência:sp|Q0J969.1| RecName: Full=Probable carboxylesterase Os04g0669500 [Oryza sativa Japonica Group]\n",
      "Q6CGL4 -  e-value:1.47643e-16 -  length:218\n",
      "sequência:sp|Q6CGL4.1| RecName: Full=Acyl-protein thioesterase 1; AltName: Full=Palmitoyl-protein hydrolase [Yarrowia lipolytica CLIB122]\n",
      "Q51758 -  e-value:1.7837e-16 -  length:227\n",
      "sequência:sp|Q51758.1| RecName: Full=Carboxylesterase 1; AltName: Full=Esterase I [Pseudomonas fluorescens]\n",
      "Q8GYK2 -  e-value:3.26358e-16 -  length:217\n",
      "sequência:sp|Q8GYK2.1| RecName: Full=Probable carboxylesterase SOBER1-like [Arabidopsis thaliana]\n",
      "Q4I8Q4 -  e-value:6.82091e-16 -  length:232\n",
      "sequência:sp|Q4I8Q4.1| RecName: Full=Acyl-protein thioesterase 1; AltName: Full=Palmitoyl-protein hydrolase [Fusarium graminearum PH-1]\n",
      "Q84WK4 -  e-value:3.53088e-15 -  length:221\n",
      "sequência:sp|Q84WK4.1| RecName: Full=Carboxylesterase SOBER1; AltName: Full=Phospholipase A2 SOBER1; AltName: Full=Protein SUPPRESSOR OF AVRBST-ELICITED RESISTANCE 1 [Arabidopsis thaliana]\n",
      "Q6FW75 -  e-value:1.66443e-14 -  length:212\n",
      "sequência:sp|Q6FW75.1| RecName: Full=Acyl-protein thioesterase 1; AltName: Full=Palmitoyl-protein hydrolase [[Candida] glabrata CBS 138]\n",
      "Q750X7 -  e-value:2.73503e-13 -  length:187\n",
      "sequência:sp|Q750X7.1| RecName: Full=Acyl-protein thioesterase 1; AltName: Full=Palmitoyl-protein hydrolase [Eremothecium gossypii ATCC 10895]\n",
      "Q12354 -  e-value:9.62602e-13 -  length:224\n",
      "sequência:sp|Q12354.1| RecName: Full=Acyl-protein thioesterase 1; AltName: Full=Palmitoyl-protein hydrolase [Saccharomyces cerevisiae S288C]\n",
      "Q6CJK6 -  e-value:9.86131e-13 -  length:211\n",
      "sequência:sp|Q6CJK6.1| RecName: Full=Acyl-protein thioesterase 1; AltName: Full=Palmitoyl-protein hydrolase [Kluyveromyces lactis NRRL Y-1140]\n",
      "Q0J968 -  e-value:1.42111e-12 -  length:218\n",
      "sequência:sp|Q0J968.1| RecName: Full=Probable carboxylesterase Os04g0669600 [Oryza sativa Japonica Group]\n",
      "Q7XR62 -  e-value:9.19836e-11 -  length:217\n",
      "sequência:sp|Q7XR62.1| RecName: Full=Probable inactive carboxylesterase Os04g0669700 [Oryza sativa Japonica Group]\n",
      "Q5ZJL8 -  e-value:0.206684 -  length:43\n",
      "sequência:sp|Q5ZJL8.1| RecName: Full=Protein ABHD13; AltName: Full=Alpha/beta hydrolase domain-containing protein 13; Short=Abhydrolase domain-containing protein 13 [Gallus gallus]\n",
      "Q7L211 -  e-value:0.288372 -  length:63\n",
      "sequência:sp|Q7L211.1| RecName: Full=Protein ABHD13; AltName: Full=Alpha/beta hydrolase domain-containing protein 13; Short=Abhydrolase domain-containing protein 13 [Homo sapiens]\n",
      "Q80UX8 -  e-value:0.671401 -  length:63\n",
      "sequência:sp|Q80UX8.1| RecName: Full=Protein ABHD13; AltName: Full=Alpha/beta hydrolase domain-containing protein 13; Short=Abhydrolase domain-containing protein 13 [Mus musculus]\n",
      "Q6IRP4 -  e-value:0.995457 -  length:55\n",
      "sequência:sp|Q6IRP4.1| RecName: Full=Protein ABHD13; AltName: Full=Alpha/beta hydrolase domain-containing protein 13; Short=Abhydrolase domain-containing protein 13 [Xenopus laevis]\n",
      "Q5LNP0 -  e-value:1.00034 -  length:100\n",
      "sequência:sp|Q5LNP0.1| RecName: Full=ATP synthase gamma chain; AltName: Full=ATP synthase F1 sector gamma subunit; AltName: Full=F-ATPase gamma subunit [Ruegeria pomeroyi DSS-3]\n",
      "K3UFY2 -  e-value:1.25759 -  length:59\n",
      "sequência:sp|K3UFY2.1| RecName: Full=Thioesterase FPSE_09186; AltName: Full=W493 A and B biosynthesis cluster protein FPSE_09186 [Fusarium pseudograminearum CS3096]\n",
      "A0A0S6XGG4 -  e-value:1.80507 -  length:52\n",
      "sequência:sp|A0A0S6XGG4.1| RecName: Full=Thioesterase frbD; AltName: Full=FR901469 biosynthesis cluster protein D [fungal sp. No.11243]\n",
      "Q09830 -  e-value:2.05932 -  length:118\n",
      "sequência:sp|Q09830.1| RecName: Full=TBC domain-containing protein C4G8.04 [Schizosaccharomyces pombe 972h-]\n",
      "Q5BEJ8 -  e-value:2.35571 -  length:159\n",
      "sequência:sp|Q5BEJ8.1| RecName: Full=Probable esterase afoC; AltName: Full=Asperfuranone biosynthesis protein B [Aspergillus nidulans FGSC A4]\n",
      "P23553 -  e-value:2.41458 -  length:38\n",
      "sequência:sp|P23553.1| RecName: Full=Acetyl esterase; AltName: Full=Acetylxylosidase [Caldicellulosiruptor saccharolyticus]\n",
      "P39839 -  e-value:2.76212 -  length:56\n",
      "sequência:sp|P39839.3| RecName: Full=Uncharacterized peptidase YuxL [Bacillus subtilis subsp. subtilis str. 168]\n",
      "P46235 -  e-value:3.64304 -  length:78\n",
      "sequência:sp|P46235.2| RecName: Full=Probable lactoylglutathione lyase; AltName: Full=Aldoketomutase; AltName: Full=Glyoxalase I; Short=Glx I; AltName: Full=Ketone-aldehyde mutase; AltName: Full=Methylglyoxalase; AltName: Full=S-D-lactoylglutathione methylglyoxal lyase [Vibrio parahaemolyticus RIMD 2210633]\n",
      "Q32LS6 -  e-value:3.72236 -  length:43\n",
      "sequência:sp|Q32LS6.1| RecName: Full=Protein ABHD13; AltName: Full=Alpha/beta hydrolase domain-containing protein 13; Short=Abhydrolase domain-containing protein 13 [Danio rerio]\n",
      "G3XMB7 -  e-value:3.72693 -  length:151\n",
      "sequência:sp|G3XMB7.1| RecName: Full=Probable esterase azaC; AltName: Full=Azaphilone biosynthesis cluster protein azaC [Aspergillus niger ATCC 1015]\n",
      "B3EB76 -  e-value:5.00598 -  length:25\n",
      "sequência:sp|B3EB76.1| RecName: Full=Acetate kinase; AltName: Full=Acetokinase [Trichlorobacter lovleyi SZ]\n",
      "Q6D0H8 -  e-value:5.16991 -  length:51\n",
      "sequência:sp|Q6D0H8.1| RecName: Full=UDP-N-acetylmuramoyl-L-alanyl-D-glutamate--2,6-diaminopimelate ligase; AltName: Full=Meso-A2pm-adding enzyme; AltName: Full=Meso-diaminopimelate-adding enzyme; AltName: Full=UDP-MurNAc-L-Ala-D-Glu:meso-diaminopimelate ligase; AltName: Full=UDP-MurNAc-tripeptide synthetase; AltName: Full=UDP-N-acetylmuramyl-tripeptide synthetase [Pectobacterium atrosepticum SCRI1043]\n",
      " \n"
     ]
    }
   ],
   "source": [
    "resultado=[]\n",
    "for alignment in record.alignments:\n",
    "    evalue=alignment.hsps[0].expect\n",
    "    accession=alignment.accession\n",
    "    length=alignment.hsps[0].align_length\n",
    "    sequence=alignment.title\n",
    "    resultado.append(str(accession) + \" - \" + \" e-value:\"+ str(evalue) + \" - \" + \" length:\" + str(length) + \"\\nsequência:\" + str(sequence))\n",
    "\n",
    "print(\"E-values e comprimento dos alinhamentos obtidos:\")\n",
    "print(\" \")\n",
    "for s in resultado:\n",
    "    print(s)\n",
    "print(\" \")"
   ]
  }
 ],
 "metadata": {
  "kernelspec": {
   "display_name": "Python 3 (ipykernel)",
   "language": "python",
   "name": "python3"
  },
  "language_info": {
   "codemirror_mode": {
    "name": "ipython",
    "version": 3
   },
   "file_extension": ".py",
   "mimetype": "text/x-python",
   "name": "python",
   "nbconvert_exporter": "python",
   "pygments_lexer": "ipython3",
   "version": "3.9.12"
  }
 },
 "nbformat": 4,
 "nbformat_minor": 5
}
