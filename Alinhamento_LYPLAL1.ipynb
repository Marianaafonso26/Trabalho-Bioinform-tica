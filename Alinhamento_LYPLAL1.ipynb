{
 "cells": [
  {
   "cell_type": "markdown",
   "id": "bb6a6fe5",
   "metadata": {},
   "source": [
    "# Alinhamento Múltiplo - Gene LYPLAL1"
   ]
  },
  {
   "cell_type": "markdown",
   "id": "853b2668",
   "metadata": {},
   "source": [
    "1. Carregamento do package e dos módulos necessários"
   ]
  },
  {
   "cell_type": "code",
   "execution_count": 1,
   "id": "09363d62",
   "metadata": {},
   "outputs": [],
   "source": [
    "from Bio.Blast import NCBIXML\n",
    "from Bio.Blast import NCBIWWW\n",
    "from Bio import SeqIO\n",
    "from Bio import Entrez"
   ]
  },
  {
   "cell_type": "markdown",
   "id": "bec30250",
   "metadata": {},
   "source": [
    "2. O seguinte código serve para guardar o ficheiro corresponde à sequência de aminoácidos que é codificada pelo gene LYPLAL1 em formato fasta, de modo a que as sequências homológas obtidas possam servir de input para a construção de árvores filogenéticas. Como tal utiliza-se o módulo Bio.SeqIO que permite a leitura de sequências de um arquivo, bem como escrever sequências para outro arquivo"
   ]
  },
  {
   "cell_type": "code",
   "execution_count": 2,
   "id": "5126c7de",
   "metadata": {},
   "outputs": [],
   "source": [
    "seqrecord=SeqIO.read(open(\"LYPLAL1.fasta\"),format=\"fasta\")"
   ]
  },
  {
   "cell_type": "markdown",
   "id": "21b19ff8",
   "metadata": {},
   "source": [
    "3. De seguida procede-se à pesquisa remota no BLAST, por sequências homólogas similares utilizando-se a base de dados biológicos Uniprot/Swissprot. Para tal, recorreu-se ao módulo Bio.NCBIWWW que permite aceder à versão WWW do blast forncida pelo NCBI."
   ]
  },
  {
   "cell_type": "code",
   "execution_count": 3,
   "id": "6219dc70",
   "metadata": {},
   "outputs": [],
   "source": [
    "result_handle=NCBIWWW.qblast(\"blastp\", \"nr\", seqrecord.format(\"fasta\"))"
   ]
  },
  {
   "cell_type": "markdown",
   "id": "9b464023",
   "metadata": {},
   "source": [
    "4. O código abaixo implementado permite guardar os resultados obtidos anteriormente num ficheiro no formato xml para posterior análise. Como tal, foi necessário recorrer ao módulo Bio.NCBIXML."
   ]
  },
  {
   "cell_type": "code",
   "execution_count": 4,
   "id": "241827b2",
   "metadata": {},
   "outputs": [],
   "source": [
    "save_file=open(\"blast-LYPLAL1.xml\", \"w\")\n",
    "save_file.write(result_handle.read())\n",
    "save_file.close()\n",
    "result_handle.close()"
   ]
  },
  {
   "cell_type": "code",
   "execution_count": 5,
   "id": "c0d4dd58",
   "metadata": {},
   "outputs": [],
   "source": [
    "result_handle=open(\"blast-LYPLAL1.xml\")\n",
    "record=NCBIXML.read(result_handle)"
   ]
  },
  {
   "cell_type": "markdown",
   "id": "dfe58eb4",
   "metadata": {},
   "source": [
    "5. De seguida implementou-se um código que permitir retornar os parâmetros globais da pesquisa realizada no BLAST, nomeadamente a base de dados utilizada, a matriz de substituição utilizada no alinhamento, bem como os parâmetros de espaçamentos (gap penalties)."
   ]
  },
  {
   "cell_type": "code",
   "execution_count": 6,
   "id": "c488573b",
   "metadata": {},
   "outputs": [
    {
     "name": "stdout",
     "output_type": "stream",
     "text": [
      "Parâmetros Globais\n",
      " \n",
      "base de dados: nr\n",
      "matriz de substituição: BLOSUM62\n",
      "parâmetros de espaçamento: (11, 1)\n"
     ]
    }
   ],
   "source": [
    "print(\"Parâmetros Globais\")\n",
    "print(\" \")\n",
    "print(\"base de dados:\", record.database)\n",
    "print(\"matriz de substituição:\", record.matrix)\n",
    "print(\"parâmetros de espaçamento:\", record.gap_penalties)"
   ]
  },
  {
   "cell_type": "markdown",
   "id": "5432ebc4",
   "metadata": {},
   "source": [
    "6.  Pretendeu-se também obter o número de sequências homólogas (também designaddo por ocorrências) à sequência nucleotídica em análise LYPLAL1, encontradas na pesquisa BLAST, isto é, o número de alinhamentos retornados (número de hits)."
   ]
  },
  {
   "cell_type": "code",
   "execution_count": 7,
   "id": "29427883",
   "metadata": {},
   "outputs": [
    {
     "name": "stdout",
     "output_type": "stream",
     "text": [
      "número de alinhamentos: 50\n"
     ]
    }
   ],
   "source": [
    "nhits=len(record.alignments)\n",
    "print(\"número de alinhamentos:\", nhits)"
   ]
  },
  {
   "cell_type": "markdown",
   "id": "de39d9d7",
   "metadata": {},
   "source": [
    "7. O seguinte código permite identificar a lista de acession numbers, os e-values e os comprimentos dos alinhamentos dos alinhamentos obtidos na pesquisa. Um acession number corresponde ao identificador único que é dado a uma sequência de um polímero biológico (DNA, RNA, proteína), quando as sequências (nucleotídicas ou de aminoácidos) são subtmetidas a um banco de dados. Já o e-value corresponde à probabilidade de alinhamento aleatório, isto é, um cálculo estático baseado na qualidade do alinhamento e o tamanho da base de dados. Ou seja, o e-value é um parâmetro que descreve o número de hits que se pode encontrar ao efetuar a pesquisa num base de dados de determinado tamanho específico. Geralmente, quanto mais próximo de zero foi o e-value, mais significativa é a correspondência dos alinhamentos retornados. No entanto, para alinahmentos mais curtos o e-value pode ser relativamente alto, dado que o cálculo do e-value tem em consideração o tamanho da sequência inicial (query), e como tal sequências mais curtas têm maior probabilidade de ocorrer num banco de dados. Obteve-se também o comprimento  dos alinhamentos retornados e a identificação das sequências homológas."
   ]
  },
  {
   "cell_type": "code",
   "execution_count": 8,
   "id": "559e6311",
   "metadata": {},
   "outputs": [],
   "source": [
    "Entrez.email=\"pg50589@alunos.uminho.pt\""
   ]
  },
  {
   "cell_type": "code",
   "execution_count": 9,
   "id": "8adc3f11",
   "metadata": {},
   "outputs": [
    {
     "name": "stdout",
     "output_type": "stream",
     "text": [
      "E-values e comprimento dos alinhamentos obtidos:\n",
      " \n",
      "NP_001337557 -  e-value:0.0 -  length:246\n",
      "sequência:ref|NP_001337557.1| lysophospholipase-like protein 1 isoform e [Homo sapiens] >ref|XP_016855760.1| lysophospholipase-like protein 1 isoform X1 [Homo sapiens]\n",
      "XP_009439617 -  e-value:0.0 -  length:246\n",
      "sequência:ref|XP_009439617.1| lysophospholipase-like protein 1 isoform X1 [Pan troglodytes] >ref|XP_016776869.1| lysophospholipase-like protein 1 isoform X1 [Pan troglodytes] >ref|XP_034802961.1| lysophospholipase-like protein 1 isoform X1 [Pan paniscus]\n",
      "NP_620149 -  e-value:6.54937e-174 -  length:246\n",
      "sequência:ref|NP_620149.2| lysophospholipase-like protein 1 isoform a [Homo sapiens] >ref|XP_047301090.1| lysophospholipase-like protein 1 isoform X2 [Homo sapiens] >sp|Q5VWZ2.3| RecName: Full=Lysophospholipase-like protein 1 [Homo sapiens] >gb|KAI2521468.1| lysophospholipase like 1 [Homo sapiens]\n",
      "NP_001233304 -  e-value:1.837e-173 -  length:246\n",
      "sequência:ref|NP_001233304.1| lysophospholipase-like protein 1 [Pan troglodytes] >ref|XP_003814178.2| lysophospholipase-like protein 1 isoform X2 [Pan paniscus] >ref|XP_009439619.1| lysophospholipase-like protein 1 isoform X2 [Pan troglodytes] >gb|AAH16711.1| Lysophospholipase-like 1 [Homo sapiens] >gb|AIC53008.1| LYPLAL1, partial [synthetic construct] >emb|SJX30534.1| unnamed protein product, partial [Human ORFeome Gateway entry vector] >gb|EAW93322.1| lysophospholipase-like 1, isoform CRA_d [Homo sapiens] >gb|PNJ00130.1| LYPLAL1 isoform 3 [Pan troglodytes]\n",
      "3U0V_A -  e-value:3.20292e-173 -  length:246\n",
      "sequência:pdb|3U0V|A Crystal Structure Analysis of human LYPLAL1 [Homo sapiens] >pdb|5KRE|A Covalent inhibitor of LYPLAL1 [Homo sapiens]\n",
      "KAI4084988 -  e-value:8.44186e-173 -  length:246\n",
      "sequência:gb|KAI4084988.1| lysophospholipase like 1 [Homo sapiens]\n",
      "BAF84231 -  e-value:3.21925e-172 -  length:246\n",
      "sequência:dbj|BAF84231.1| unnamed protein product [Homo sapiens]\n",
      "XP_003265134 -  e-value:4.47405e-172 -  length:246\n",
      "sequência:ref|XP_003265134.1| lysophospholipase-like protein 1 [Nomascus leucogenys]\n",
      "XP_007986602 -  e-value:6.86224e-172 -  length:246\n",
      "sequência:ref|XP_007986602.1| lysophospholipase-like protein 1 isoform X1 [Chlorocebus sabaeus]\n",
      "XP_025216136 -  e-value:1.90353e-171 -  length:246\n",
      "sequência:ref|XP_025216136.1| lysophospholipase-like protein 1 isoform X1 [Theropithecus gelada]\n",
      "XP_031992581 -  e-value:1.15101e-170 -  length:246\n",
      "sequência:ref|XP_031992581.1| lysophospholipase-like protein 1 isoform X1 [Hylobates moloch]\n",
      "NP_001126154 -  e-value:3.93299e-170 -  length:246\n",
      "sequência:ref|NP_001126154.1| lysophospholipase-like protein 1 [Pongo abelii] >ref|XP_009235805.2| lysophospholipase-like protein 1 isoform X1 [Pongo abelii] >sp|Q5R8C2.3| RecName: Full=Lysophospholipase-like protein 1 [Pongo abelii] >gb|PNJ11329.1| LYPLAL1 isoform 3 [Pongo abelii] >emb|CAH91988.1| hypothetical protein [Pongo abelii]\n",
      "XP_004028465 -  e-value:5.58718e-170 -  length:246\n",
      "sequência:ref|XP_004028465.1| lysophospholipase-like protein 1 isoform X1 [Gorilla gorilla gorilla]\n",
      "XP_010364994 -  e-value:7.70899e-167 -  length:246\n",
      "sequência:ref|XP_010364994.1| lysophospholipase-like protein 1 isoform X1 [Rhinopithecus roxellana] >ref|XP_017725504.1| PREDICTED: lysophospholipase-like protein 1 isoform X1 [Rhinopithecus bieti]\n",
      "XP_011784834 -  e-value:2.18579e-166 -  length:246\n",
      "sequência:ref|XP_011784834.1| PREDICTED: lysophospholipase-like protein 1 isoform X1 [Colobus angolensis palliatus] >ref|XP_031791704.1| lysophospholipase-like protein 1 isoform X1 [Piliocolobus tephrosceles]\n",
      "NP_001337558 -  e-value:2.43238e-166 -  length:246\n",
      "sequência:ref|NP_001337558.1| lysophospholipase-like protein 1 isoform f [Homo sapiens]\n",
      "XP_033051375 -  e-value:3.99617e-166 -  length:246\n",
      "sequência:ref|XP_033051375.1| lysophospholipase-like protein 1 isoform X1 [Trachypithecus francoisi]\n",
      "XP_024207539 -  e-value:6.82181e-166 -  length:246\n",
      "sequência:ref|XP_024207539.1| lysophospholipase-like protein 1 isoform X3 [Pan troglodytes] >ref|XP_034802967.1| lysophospholipase-like protein 1 isoform X3 [Pan paniscus]\n",
      "NP_001253794 -  e-value:1.73989e-164 -  length:246\n",
      "sequência:ref|NP_001253794.1| lysophospholipase-like protein 1 [Macaca mulatta] >ref|XP_005540933.1| PREDICTED: lysophospholipase-like protein 1 isoform X1 [Macaca fascicularis] >ref|XP_011759476.1| lysophospholipase-like protein 1 isoform X1 [Macaca nemestrina] >ref|XP_011842757.1| PREDICTED: lysophospholipase-like protein 1 isoform X1 [Mandrillus leucophaeus] >ref|XP_011896049.1| PREDICTED: lysophospholipase-like protein 1 isoform X1 [Cercocebus atys] >ref|XP_050636186.1| lysophospholipase-like protein 1 [Macaca thibetana thibetana]\n",
      "XP_005540933 -  e-value:1.98469e-164 -  length:246\n",
      "sequência:ref|XP_005540933.2| lysophospholipase-like protein 1 isoform X1 [Macaca fascicularis] >gb|EHH50533.1| hypothetical protein EGM_01381 [Macaca fascicularis]\n",
      "XP_003930390 -  e-value:6.76051e-164 -  length:241\n",
      "sequência:ref|XP_003930390.1| lysophospholipase-like protein 1 isoform X1 [Saimiri boliviensis boliviensis]\n",
      "XP_007986604 -  e-value:9.52691e-164 -  length:246\n",
      "sequência:ref|XP_007986604.1| lysophospholipase-like protein 1 isoform X2 [Chlorocebus sabaeus]\n",
      "XP_012315110 -  e-value:1.50579e-163 -  length:242\n",
      "sequência:ref|XP_012315110.1| lysophospholipase-like protein 1 isoform X1 [Aotus nancymaae]\n",
      "XP_025216143 -  e-value:2.67158e-163 -  length:246\n",
      "sequência:ref|XP_025216143.1| lysophospholipase-like protein 1 isoform X2 [Theropithecus gelada]\n",
      "XP_017821958 -  e-value:3.39088e-163 -  length:242\n",
      "sequência:ref|XP_017821958.2| lysophospholipase-like protein 1 isoform X1 [Callithrix jacchus]\n",
      "XP_003893145 -  e-value:7.74231e-163 -  length:246\n",
      "sequência:ref|XP_003893145.1| lysophospholipase-like protein 1 isoform X1 [Papio anubis]\n",
      "XP_017381809 -  e-value:8.81534e-162 -  length:242\n",
      "sequência:ref|XP_017381809.1| lysophospholipase-like protein 1 isoform X1 [Cebus imitator]\n",
      "XP_032145153 -  e-value:2.34233e-160 -  length:242\n",
      "sequência:ref|XP_032145153.1| lysophospholipase-like protein 1 isoform X1 [Sapajus apella] >ref|XP_032145154.1| lysophospholipase-like protein 1 isoform X1 [Sapajus apella]\n",
      "XP_022364545 -  e-value:8.80073e-159 -  length:247\n",
      "sequência:ref|XP_022364545.1| lysophospholipase-like protein 1 isoform X2 [Enhydra lutris kenyoni]\n",
      "NP_001287699 -  e-value:1.18092e-157 -  length:246\n",
      "sequência:ref|NP_001287699.1| lysophospholipase-like protein 1 isoform c [Homo sapiens] >ref|XP_047301094.1| lysophospholipase-like protein 1 isoform X3 [Homo sapiens] >gb|KAI2521469.1| lysophospholipase like 1 [Homo sapiens]\n",
      "XP_003814179 -  e-value:3.31162e-157 -  length:246\n",
      "sequência:ref|XP_003814179.2| lysophospholipase-like protein 1 isoform X4 [Pan paniscus] >ref|XP_009439622.1| lysophospholipase-like protein 1 isoform X4 [Pan troglodytes] >gb|EAW93320.1| lysophospholipase-like 1, isoform CRA_b [Homo sapiens] >gb|PNJ00129.1| LYPLAL1 isoform 1 [Pan troglodytes]\n",
      "XP_036787865 -  e-value:5.69826e-157 -  length:246\n",
      "sequência:ref|XP_036787865.1| lysophospholipase-like protein 1 isoform X6 [Manis pentadactyla]\n",
      "KAI4084987 -  e-value:1.47211e-156 -  length:246\n",
      "sequência:gb|KAI4084987.1| lysophospholipase like 1 [Homo sapiens]\n",
      "AAQ17077 -  e-value:2.09115e-156 -  length:246\n",
      "sequência:gb|AAQ17077.1| lysophospholipase-like 1 [Homo sapiens]\n",
      "XP_004439721 -  e-value:2.29434e-156 -  length:246\n",
      "sequência:ref|XP_004439721.1| PREDICTED: lysophospholipase-like protein 1 [Ceratotherium simum simum]\n",
      "XP_008683898 -  e-value:2.10276e-155 -  length:246\n",
      "sequência:ref|XP_008683898.1| lysophospholipase-like protein 1 [Ursus maritimus] >ref|XP_045665579.1| lysophospholipase-like protein 1 isoform X2 [Ursus americanus]\n",
      "XP_008068312 -  e-value:3.24999e-155 -  length:245\n",
      "sequência:ref|XP_008068312.1| lysophospholipase-like protein 1 isoform X1 [Carlito syrichta]\n",
      "XP_012646875 -  e-value:3.29663e-155 -  length:246\n",
      "sequência:ref|XP_012646875.1| lysophospholipase-like protein 1 [Microcebus murinus]\n",
      "XP_026373099 -  e-value:5.51986e-155 -  length:246\n",
      "sequência:ref|XP_026373099.2| lysophospholipase-like protein 1 isoform X1 [Ursus arctos]\n",
      "XP_017511465 -  e-value:1.31279e-154 -  length:246\n",
      "sequência:ref|XP_017511465.2| lysophospholipase-like protein 1 isoform X4 [Manis javanica]\n",
      "XP_006188216 -  e-value:2.41824e-154 -  length:246\n",
      "sequência:ref|XP_006188216.2| lysophospholipase-like protein 1 [Camelus ferus]\n",
      "XP_049490521 -  e-value:3.95937e-154 -  length:246\n",
      "sequência:ref|XP_049490521.1| lysophospholipase-like protein 1 isoform X2 [Panthera uncia]\n",
      "CAD7679997 -  e-value:4.02273e-154 -  length:244\n",
      "sequência:emb|CAD7679997.1| unnamed protein product [Nyctereutes procyonoides]\n",
      "XP_006140291 -  e-value:4.43477e-154 -  length:246\n",
      "sequência:ref|XP_006140291.1| lysophospholipase-like protein 1 isoform X1 [Tupaia chinensis] >ref|XP_006140292.1| lysophospholipase-like protein 1 isoform X2 [Tupaia chinensis]\n",
      "XP_034802972 -  e-value:4.62114e-154 -  length:208\n",
      "sequência:ref|XP_034802972.1| lysophospholipase-like protein 1 isoform X5 [Pan paniscus] >ref|XP_034802976.1| lysophospholipase-like protein 1 isoform X5 [Pan paniscus]\n",
      "XP_004415668 -  e-value:4.73639e-154 -  length:246\n",
      "sequência:ref|XP_004415668.1| PREDICTED: lysophospholipase-like protein 1 [Odobenus rosmarus divergens]\n",
      "XP_035952075 -  e-value:6.23042e-154 -  length:246\n",
      "sequência:ref|XP_035952075.1| lysophospholipase-like protein 1 isoform X1 [Halichoerus grypus]\n",
      "XP_025216148 -  e-value:6.25256e-154 -  length:246\n",
      "sequência:ref|XP_025216148.1| lysophospholipase-like protein 1 isoform X3 [Theropithecus gelada]\n",
      "XP_027468784 -  e-value:6.72754e-154 -  length:246\n",
      "sequência:ref|XP_027468784.1| lysophospholipase-like protein 1 [Zalophus californianus] >ref|XP_027960574.1| lysophospholipase-like protein 1 [Eumetopias jubatus]\n",
      "PNJ11328 -  e-value:7.00144e-154 -  length:246\n",
      "sequência:gb|PNJ11328.1| LYPLAL1 isoform 1 [Pongo abelii]\n",
      " \n"
     ]
    }
   ],
   "source": [
    "resultado=[]\n",
    "for alignment in record.alignments:\n",
    "    evalue=alignment.hsps[0].expect\n",
    "    accession=alignment.accession\n",
    "    length=alignment.hsps[0].align_length\n",
    "    sequence=alignment.title\n",
    "    resultado.append(str(accession) + \" - \" + \" e-value:\"+ str(evalue) + \" - \" + \" length:\" + str(length) + \"\\nsequência:\" + str(sequence))\n",
    "\n",
    "print(\"E-values e comprimento dos alinhamentos obtidos:\")\n",
    "print(\" \")\n",
    "for s in resultado:\n",
    "    print(s)\n",
    "print(\" \")"
   ]
  }
 ],
 "metadata": {
  "kernelspec": {
   "display_name": "Python 3 (ipykernel)",
   "language": "python",
   "name": "python3"
  },
  "language_info": {
   "codemirror_mode": {
    "name": "ipython",
    "version": 3
   },
   "file_extension": ".py",
   "mimetype": "text/x-python",
   "name": "python",
   "nbconvert_exporter": "python",
   "pygments_lexer": "ipython3",
   "version": "3.9.12"
  }
 },
 "nbformat": 4,
 "nbformat_minor": 5
}
